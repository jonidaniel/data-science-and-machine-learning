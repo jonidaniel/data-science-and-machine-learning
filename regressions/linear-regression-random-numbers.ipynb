{
 "cells": [
  {
   "cell_type": "markdown",
   "id": "9b969c13",
   "metadata": {},
   "source": [
    "# Linear Regression: Random numbers\n",
    "##### y = mx + b\n",
    "##### where m = slope & b = y-intercept"
   ]
  },
  {
   "cell_type": "code",
   "execution_count": 13,
   "id": "56c376d5",
   "metadata": {},
   "outputs": [],
   "source": [
    "import matplotlib.pyplot as plt\n",
    "from scipy import stats"
   ]
  },
  {
   "cell_type": "markdown",
   "id": "8116b68a",
   "metadata": {},
   "source": [
    "### Draw a line of linear regression"
   ]
  },
  {
   "cell_type": "code",
   "execution_count": 14,
   "id": "a44d29b3",
   "metadata": {},
   "outputs": [
    {
     "data": {
      "image/png": "[encoded data removed]",
      "text/plain": [
       "<Figure size 640x480 with 1 Axes>"
      ]
     },
     "metadata": {},
     "output_type": "display_data"
    }
   ],
   "source": [
    "# X and y need to be of the same length\n",
    "X = [5, 7, 8, 7, 2, 17, 2, 9, 4, 11, 12, 9, 6]\n",
    "y = [99, 86, 87, 88, 111, 86, 103, 87, 94, 78, 77, 85, 86]\n",
    "\n",
    "# Create some important key values\n",
    "slope, intercept, r, p, std_err = stats.linregress(X, y)\n",
    "\n",
    "def myFunc(X):\n",
    "  return slope * X + intercept # This value represents where on the y-axis the corresponding X value will be placed\n",
    "\n",
    "# Run each value of the X array through the function\n",
    "# This will result in a new array with new values for the y-axis (myModel)\n",
    "myModel = list(map(myFunc, X))\n",
    "\n",
    "# Draw the original scatter plot\n",
    "plt.scatter(X, y)\n",
    "# Draw the line of linear regression\n",
    "plt.plot(X, myModel)\n",
    "plt.show()"
   ]
  },
  {
   "cell_type": "markdown",
   "id": "9c3e0880",
   "metadata": {},
   "source": [
    "### Coefficient of correlation, r (suom. korrelaatiokerroin)"
   ]
  },
  {
   "cell_type": "code",
   "execution_count": 15,
   "id": "71175da2",
   "metadata": {},
   "outputs": [
    {
     "data": {
      "text/plain": [
       "np.float64(-0.7585915243761551)"
      ]
     },
     "execution_count": 15,
     "metadata": {},
     "output_type": "execute_result"
    }
   ],
   "source": [
    "# Ranges from -1 to 1, where 0 means no relationship, 1 (and -1) means 100 % related\n",
    "# How is the relationship between the x-axis and y-axis values?\n",
    "# I.e., how well does my data fit in a linear regression?\n",
    "\n",
    "X = [5, 7, 8, 7, 2, 17, 2, 9, 4, 11, 12, 9, 6]\n",
    "y = [99, 86, 87, 88, 111, 86, 103, 87, 94, 78, 77, 85, 86]\n",
    "\n",
    "# Create some important key values\n",
    "slope, intercept, r, p, std_err = stats.linregress(X, y)\n",
    "\n",
    "r"
   ]
  },
  {
   "cell_type": "markdown",
   "id": "b9307aa1",
   "metadata": {},
   "source": [
    "### Predict future values"
   ]
  },
  {
   "cell_type": "code",
   "execution_count": 16,
   "id": "9d137863",
   "metadata": {},
   "outputs": [
    {
     "data": {
      "text/plain": [
       "np.float64(85.59308314937454)"
      ]
     },
     "execution_count": 16,
     "metadata": {},
     "output_type": "execute_result"
    }
   ],
   "source": [
    "X = [5, 7, 8, 7, 2, 17, 2, 9, 4, 11, 12, 9, 6]\n",
    "y = [99, 86, 87, 88, 111, 86, 103, 87, 94, 78, 77, 85, 86]\n",
    "\n",
    "# Create some important key values\n",
    "slope, intercept, r, p, std_err = stats.linregress(X, y)\n",
    "\n",
    "def myFunc(X):\n",
    "  return slope * X + intercept\n",
    "\n",
    "# Make a y-prediction with an x value of 10\n",
    "speed = myFunc(10)\n",
    "\n",
    "speed\n",
    "# Verify the value from the previous diagram"
   ]
  }
 ],
 "metadata": {
  "kernelspec": {
   "display_name": "regressions-venv",
   "language": "python",
   "name": "python3"
  },
  "language_info": {
   "codemirror_mode": {
    "name": "ipython",
    "version": 3
   },
   "file_extension": ".py",
   "mimetype": "text/x-python",
   "name": "python",
   "nbconvert_exporter": "python",
   "pygments_lexer": "ipython3",
   "version": "3.13.7"
  }
 },
 "nbformat": 4,
 "nbformat_minor": 5
}
