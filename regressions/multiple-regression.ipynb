{
 "cells": [
  {
   "cell_type": "markdown",
   "id": "30d388d1",
   "metadata": {},
   "source": [
    "# Multiple Regression"
   ]
  },
  {
   "cell_type": "code",
   "execution_count": 18,
   "id": "ec609548",
   "metadata": {},
   "outputs": [],
   "source": [
    "import numpy as np\n",
    "import pandas as pd\n",
    "import matplotlib.pyplot as plt\n",
    "from sklearn import linear_model\n",
    "from sklearn.preprocessing import StandardScaler"
   ]
  },
  {
   "cell_type": "code",
   "execution_count": 19,
   "id": "b8898255",
   "metadata": {},
   "outputs": [
    {
     "name": "stderr",
     "output_type": "stream",
     "text": [
      "/Users/fosse/Desktop/python/regressions/linear-regression-venv/lib/python3.13/site-packages/sklearn/utils/validation.py:2749: UserWarning: X does not have valid feature names, but LinearRegression was fitted with feature names\n",
      "  warnings.warn(\n"
     ]
    },
    {
     "data": {
      "text/plain": [
       "array([107.08944811])"
      ]
     },
     "execution_count": 19,
     "metadata": {},
     "output_type": "execute_result"
    }
   ],
   "source": [
    "# Multiple regression is like linear regression, but with more than one independent value,\n",
    "# meaning that we try to predict a value based on two or more variables\n",
    "\n",
    "# We can predict the CO2 emission of a car based on the size of the engine,\n",
    "# but with multiple regression we can throw in more variables,\n",
    "# like the weight of the car, to make the prediction more accurate\n",
    "\n",
    "data = [[\"Toyota\", \"Aygo\", 1000, 790, 99],\n",
    "        [\"Mitsubish\", \"Space Star\", 1200, 1160, 95],\n",
    "        [\"Skoda\", \"Citigo\", 1000, 921, 95],\n",
    "        [\"Fiat\", \"500\", 900, 865, 90],\n",
    "        [\"Mini\", \"Cooper\", 1500, 1140, 105],\n",
    "        [\"VW\", \"Up!\", 1000, 921, 105],\n",
    "        [\"Skoda\", \"Fabia\", 1400, 1109, 90],\n",
    "        [\"Mercedes\", \"A-Class\", 1500, 1365, 92],\n",
    "        [\"Ford\", \"Fiesta\", 1500, 1112, 98],\n",
    "        [\"Audi\", \"A1\", 1600, 1150, 99],\n",
    "        [\"Hyundai\", \"I20\", 1100, 980, 99],\n",
    "        [\"Suzuki\", \"Swift\", 1300, 990, 101],\n",
    "        [\"Ford\", \"Fiesta\", 1000, 1112, 99],\n",
    "        [\"Honda\", \"Civic\", 1600, 1252, 94],\n",
    "        [\"Hyundai\", \"I30\", 1600, 1326, 97],\n",
    "        [\"Opel\", \"Astra\", 1600, 1330, 97],\n",
    "        [\"BMW\", \"1\", 1600, 1365, 99],\n",
    "        [\"Mazda\", \"3\", 2200, 1280, 104],\n",
    "        [\"Skoda\", \"Rapid\", 1600, 1119, 104],\n",
    "        [\"Ford\", \"Focus\", 2000, 1328, 105],\n",
    "        [\"Ford\", \"Mondeo\", 1600, 1584, 94],\n",
    "        [\"Opel\", \"Insignia\", 2000, 1428, 99],\n",
    "        [\"Mercedes\", \"C-Class\", 2100, 1365, 99],\n",
    "        [\"Skoda\", \"Octavia\", 1600, 1415, 99],\n",
    "        [\"Volvo\", \"S60\", 2000, 1415, 99],\n",
    "        [\"Mercedes\", \"CLA\", 1500, 1465, 102],\n",
    "        [\"Audi\", \"A4\", 2000, 1490, 104],\n",
    "        [\"Audi\", \"A6\", 2000, 1725, 114],\n",
    "        [\"Volvo\", \"V70\", 1600, 1523, 109],\n",
    "        [\"BMW\", \"5\", 2000, 1705, 114],\n",
    "        [\"Mercedes\", \"E-Class\", 2100, 1605, 115],\n",
    "        [\"Volvo\", \"XC70\", 2000, 1746, 117],\n",
    "        [\"Ford\", \"B-Max\", 1600, 1235, 104],\n",
    "        [\"BMW\", \"2\", 1600, 1390, 108],\n",
    "        [\"Opel\", \"Zafira\", 1600, 1405, 109],\n",
    "        [\"Mercedes\", \"SLK\", 2500, 1395, 120]]\n",
    "\n",
    "# Create a data frame\n",
    "df = pd.DataFrame(data, columns = [\"Car\", \"Model\", \"Volume\", \"Weight\", \"CO2\"])\n",
    "\n",
    "# Make a list of the independent values\n",
    "X = df[[\"Weight\", \"Volume\"]]\n",
    "# Put the dependent values in a variable\n",
    "y = df[\"CO2\"]\n",
    "\n",
    "# Create a linear regression object\n",
    "regr = linear_model.LinearRegression()\n",
    "# Fill the regression object with the values\n",
    "regr.fit(X, y)\n",
    "\n",
    "# Predict the CO2 emission of a car\n",
    "predictedCO2 = regr.predict([[2300, 1300]]) # Weight is 2300 kg and volume is 1300 cm3\n",
    "predictedCO2"
   ]
  },
  {
   "cell_type": "code",
   "execution_count": 20,
   "id": "d741ce6b",
   "metadata": {},
   "outputs": [
    {
     "data": {
      "text/plain": [
       "array([0.00744098, 0.0078431 ])"
      ]
     },
     "execution_count": 20,
     "metadata": {},
     "output_type": "execute_result"
    }
   ],
   "source": [
    "\n",
    "# Coefficient (suom. kerroin) is a factor that describes the relationship with an unknown variable\n",
    "# If x is a variable, then 2x is x two times; x is the unknown variable, and the number 2 is the coefficient\n",
    "\n",
    "# In this case, we can ask for the coefficient value of weight against CO2,\n",
    "# and for volume against CO2\n",
    "# The answer(s) we get tells us what would happen if we increase, or decrease, one of the independent values\n",
    "regr.coef_"
   ]
  },
  {
   "cell_type": "code",
   "execution_count": 21,
   "id": "89e8ff82",
   "metadata": {},
   "outputs": [],
   "source": [
    "# The coefficient values we got tell us that if the weight increases by 1 kg, the CO2 emission increases by 0.00744098 g,\n",
    "# and if the engine size (Volume) increases by 1 cm3, the CO2 emission increases by 0.0078431 g"
   ]
  },
  {
   "cell_type": "markdown",
   "id": "03ae8bde",
   "metadata": {},
   "source": [
    "### Scale"
   ]
  },
  {
   "cell_type": "code",
   "execution_count": 22,
   "id": "fdf7ad04",
   "metadata": {},
   "outputs": [
    {
     "data": {
      "text/plain": [
       "array([[-2.09604004, -1.59336644],\n",
       "       [-0.55063689, -1.07190106],\n",
       "       [-1.54888379, -1.59336644],\n",
       "       [-1.78278264, -1.85409913],\n",
       "       [-0.63417219, -0.28970299],\n",
       "       [-1.54888379, -1.59336644],\n",
       "       [-0.76365192, -0.55043568],\n",
       "       [ 0.30559999, -0.28970299],\n",
       "       [-0.75112162, -0.28970299],\n",
       "       [-0.59240454, -0.0289703 ],\n",
       "       [-1.30245464, -1.33263375],\n",
       "       [-1.26068698, -0.81116837],\n",
       "       [-0.75112162, -1.59336644],\n",
       "       [-0.16637448, -0.0289703 ],\n",
       "       [ 0.14270615, -0.0289703 ],\n",
       "       [ 0.15941321, -0.0289703 ],\n",
       "       [ 0.30559999, -0.0289703 ],\n",
       "       [-0.04942506,  1.53542584],\n",
       "       [-0.72188426, -0.0289703 ],\n",
       "       [ 0.15105968,  1.01396046],\n",
       "       [ 1.22031159, -0.0289703 ],\n",
       "       [ 0.5687362 ,  1.01396046],\n",
       "       [ 0.30559999,  1.27469315],\n",
       "       [ 0.51443826, -0.0289703 ],\n",
       "       [ 0.51443826,  1.01396046],\n",
       "       [ 0.72327652, -0.28970299],\n",
       "       [ 0.82769565,  1.01396046],\n",
       "       [ 1.80923549,  1.01396046],\n",
       "       [ 0.96552891, -0.0289703 ],\n",
       "       [ 1.72570018,  1.01396046],\n",
       "       [ 1.30802366,  1.27469315],\n",
       "       [ 1.89694756,  1.01396046],\n",
       "       [-0.23737949, -0.0289703 ],\n",
       "       [ 0.41001912, -0.0289703 ],\n",
       "       [ 0.4726706 , -0.0289703 ],\n",
       "       [ 0.43090295,  2.31762392]])"
      ]
     },
     "execution_count": 22,
     "metadata": {},
     "output_type": "execute_result"
    }
   ],
   "source": [
    "# It can be difficult to compare a volume of 1.0 l with a weight of 790 kg,\n",
    "# but if we scale them both into comparable values, we can easily see how much one value is compared to the other\n",
    "\n",
    "# There are different methods for scaling data, this time we'll use a method called standardization\n",
    "\n",
    "# The standardization method uses formula\n",
    "# z = (x - u) / s\n",
    "# where z is the new value, x is the original value, u is the mean and s is the standard deviation\n",
    "\n",
    "# If you take the weight column from the car dataset used earlier, the first value is 790, and the scaled value will be\n",
    "# (790 - 1292.23) / 238.74 = -2.1\n",
    "# If you take the volume column from the same dataset, the first value is 1.0, and the scaled value will be\n",
    "# (1.0 - 1.61) / 0.38 = -1.59\n",
    "# Now you can compare -2.1 with -1.59 instead of comparing 790 with 1.0\n",
    "\n",
    "# Create a Scaler object with methods for transforming data sets\n",
    "scale = StandardScaler()\n",
    "\n",
    "# Make a list of the independent values\n",
    "X = df[[\"Weight\", \"Volume\"]]\n",
    "\n",
    "# Fit the list to the data, then transform it\n",
    "scaledX = scale.fit_transform(X) # Fits transformer to X and returns a transformed version of X\n",
    "scaledX"
   ]
  },
  {
   "cell_type": "code",
   "execution_count": 23,
   "id": "40ec3027",
   "metadata": {},
   "outputs": [
    {
     "name": "stderr",
     "output_type": "stream",
     "text": [
      "/Users/fosse/Desktop/python/regressions/linear-regression-venv/lib/python3.13/site-packages/sklearn/utils/validation.py:2749: UserWarning: X does not have valid feature names, but StandardScaler was fitted with feature names\n",
      "  warnings.warn(\n"
     ]
    },
    {
     "data": {
      "text/plain": [
       "array([96.90361445])"
      ]
     },
     "execution_count": 23,
     "metadata": {},
     "output_type": "execute_result"
    }
   ],
   "source": [
    "# Predict CO2 values\n",
    "\n",
    "# Create a Scaler object with methods for transforming data sets\n",
    "scale = StandardScaler()\n",
    "\n",
    "# Make a list of the independent values\n",
    "X = df[[\"Weight\", \"Volume\"]]\n",
    "# Put the dependent values in a variable\n",
    "y = df[\"CO2\"]\n",
    "\n",
    "# Fit the list to the data, then transform it\n",
    "scaledX = scale.fit_transform(X) # Fits transformer to X and returns a transformed version of X\n",
    "\n",
    "# Create a linear regression object\n",
    "regr = linear_model.LinearRegression()\n",
    "# Fill the regression object with the values\n",
    "regr.fit(scaledX, y)\n",
    "\n",
    "# Perform standardization\n",
    "scaled = scale.transform([[2300, 1.3]])\n",
    "\n",
    "# Predict the CO2 emission of a car\n",
    "predictedCO2 = regr.predict([scaled[0]])\n",
    "predictedCO2"
   ]
  },
  {
   "cell_type": "markdown",
   "id": "4771b85a",
   "metadata": {},
   "source": [
    "### Train/Test"
   ]
  },
  {
   "cell_type": "code",
   "execution_count": 24,
   "id": "89854c60",
   "metadata": {},
   "outputs": [
    {
     "data": {
      "image/png": "[encoded data removed]",
      "text/plain": [
       "<Figure size 640x480 with 1 Axes>"
      ]
     },
     "metadata": {},
     "output_type": "display_data"
    }
   ],
   "source": [
    "# Train/Test is a method to measure the accuracy of your model\n",
    "# It's called Train/Test because you split the dataset into two sets: a training set and testing set\n",
    "# Usually 80/20\n",
    "\n",
    "# You train the model using the training set; train the model means create the model\n",
    "# You test the model using the testing set; test the model means test the accuracy of the model\n",
    "\n",
    "np.random.seed(2)\n",
    "\n",
    "X = np.random.normal(3, 1, 100)\n",
    "y = np.random.normal(150, 40, 100) / X\n",
    "\n",
    "plt.scatter(X, y)\n",
    "plt.show()"
   ]
  },
  {
   "cell_type": "code",
   "execution_count": 25,
   "id": "233c751d",
   "metadata": {},
   "outputs": [],
   "source": [
    "# Split the data into train and test\n",
    "train_X = X[:80]\n",
    "train_y = y[:80]\n",
    "\n",
    "test_X = X[80:]\n",
    "test_y = y[80:]"
   ]
  },
  {
   "cell_type": "code",
   "execution_count": 26,
   "id": "724a3276",
   "metadata": {},
   "outputs": [
    {
     "data": {
      "image/png": "[encoded data removed]",
      "text/plain": [
       "<Figure size 640x480 with 1 Axes>"
      ]
     },
     "metadata": {},
     "output_type": "display_data"
    }
   ],
   "source": [
    "# Display the training set\n",
    "plt.scatter(train_X, train_y)\n",
    "plt.show()"
   ]
  },
  {
   "cell_type": "code",
   "execution_count": 27,
   "id": "01f9fc8f",
   "metadata": {},
   "outputs": [
    {
     "data": {
      "image/png": "[encoded data removed]",
      "text/plain": [
       "<Figure size 640x480 with 1 Axes>"
      ]
     },
     "metadata": {},
     "output_type": "display_data"
    }
   ],
   "source": [
    "# Display the testing set\n",
    "plt.scatter(test_X, test_y)\n",
    "plt.show()"
   ]
  },
  {
   "cell_type": "code",
   "execution_count": 28,
   "id": "d86697c2",
   "metadata": {},
   "outputs": [
    {
     "data": {
      "image/png": "[encoded data removed]",
      "text/plain": [
       "<Figure size 640x480 with 1 Axes>"
      ]
     },
     "metadata": {},
     "output_type": "display_data"
    }
   ],
   "source": [
    "# What does the dataset look like?\n",
    "# The best fit would be a polynomial regression\n",
    "# Draw a polynomial regression line through the data points\n",
    "\n",
    "# Make a polynomial model\n",
    "myModel = np.poly1d(np.polyfit(train_X, train_y, 4)) # x values, y values, deg (degree of the fitting polynomial)\n",
    "\n",
    "# Specify how the line will display\n",
    "myLine = np.linspace(0, 5.25, 100) # Start from position 0, end at position 6, 100 positions along the way\n",
    "\n",
    "plt.scatter(train_X, train_y)\n",
    "plt.plot(myLine, myModel(myLine))\n",
    "plt.show()"
   ]
  }
 ],
 "metadata": {
  "kernelspec": {
   "display_name": "linear-regression-venv",
   "language": "python",
   "name": "python3"
  },
  "language_info": {
   "codemirror_mode": {
    "name": "ipython",
    "version": 3
   },
   "file_extension": ".py",
   "mimetype": "text/x-python",
   "name": "python",
   "nbconvert_exporter": "python",
   "pygments_lexer": "ipython3",
   "version": "3.13.7"
  }
 },
 "nbformat": 4,
 "nbformat_minor": 5
}
