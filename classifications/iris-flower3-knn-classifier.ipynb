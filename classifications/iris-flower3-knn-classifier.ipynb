{
 "cells": [
  {
   "cell_type": "markdown",
   "id": "d3a1d753",
   "metadata": {},
   "source": [
    "## Part 3 - K-Nearest Neighbors Classifier"
   ]
  },
  {
   "cell_type": "code",
   "execution_count": 1,
   "id": "f9e07a9b",
   "metadata": {},
   "outputs": [],
   "source": [
    "# Import the scaled data frame from Part 1 for reuse\n",
    "%store -r scaled_df\n",
    "\n",
    "# Import the training and testing sets from Part 2 for reuse\n",
    "%store -r X_train\n",
    "%store -r X_test\n",
    "%store -r y_train\n",
    "%store -r y_test"
   ]
  },
  {
   "cell_type": "code",
   "execution_count": 2,
   "id": "b77311be",
   "metadata": {},
   "outputs": [],
   "source": [
    "import numpy as np\n",
    "\n",
    "from sklearn.neighbors import KNeighborsClassifier\n",
    "from sklearn.model_selection import RandomizedSearchCV, GridSearchCV\n",
    "from sklearn.metrics import accuracy_score, classification_report"
   ]
  },
  {
   "cell_type": "code",
   "execution_count": 3,
   "id": "645a614b",
   "metadata": {},
   "outputs": [
    {
     "data": {
      "text/plain": [
       "0.9666666666666667"
      ]
     },
     "execution_count": 3,
     "metadata": {},
     "output_type": "execute_result"
    }
   ],
   "source": [
    "clf = KNeighborsClassifier()\n",
    "clf.fit(X_train, y_train).score(X_test, y_test)"
   ]
  },
  {
   "cell_type": "code",
   "execution_count": 4,
   "id": "8f73225a",
   "metadata": {},
   "outputs": [
    {
     "name": "stdout",
     "output_type": "stream",
     "text": [
      "{'weights': 'uniform', 'n_neighbors': np.int64(7), 'metric': 'euclidean', 'leaf_size': np.int64(20), 'algorithm': 'brute'} \n",
      "\n",
      "Train accuracy: 0.9583333333333334\n",
      "Test accuracy: 1.0\n"
     ]
    }
   ],
   "source": [
    "params = {\"n_neighbors\": np.arange(1, 15),\n",
    "          \"weights\": [\"uniform\", \"distance\"],\n",
    "          \"algorithm\": [\"auto\", \"ball_tree\", \"kd_tree\", \"brute\"],\n",
    "          \"metric\": [\"minkowski\", \"euclidean\", \"manhattan\", \"chebyshev\"], # Distance functions (i.e. different ways to evaluate distances between points)\n",
    "          \"leaf_size\": np.linspace(10, 150, 15).astype(int)}\n",
    "\n",
    "rand_search = RandomizedSearchCV(KNeighborsClassifier(), params, scoring = \"accuracy\",\n",
    "                                 random_state = 1, cv = 5)\n",
    "rand_search.fit(X_train, y_train)\n",
    "\n",
    "rand_params = rand_search.best_params_\n",
    "print(rand_params, \"\\n\")\n",
    "print(\"Train accuracy:\", rand_search.best_score_)\n",
    "preds = rand_search.predict(X_test)\n",
    "print(\"Test accuracy:\", accuracy_score(preds, y_test))"
   ]
  },
  {
   "cell_type": "code",
   "execution_count": 5,
   "id": "0851a972",
   "metadata": {},
   "outputs": [
    {
     "name": "stdout",
     "output_type": "stream",
     "text": [
      "{'algorithm': 'brute', 'leaf_size': np.int64(17), 'metric': 'euclidean', 'n_neighbors': np.int64(7), 'weights': 'uniform'} \n",
      "\n",
      "Train accuracy: 0.9583333333333334\n",
      "Test accuracy: 1.0\n"
     ]
    }
   ],
   "source": [
    "n_neighbors = np.arange(rand_params[\"n_neighbors\"] - 3, rand_params[\"n_neighbors\"] + 3)\n",
    "\n",
    "leaf_size = np.arange(rand_params[\"leaf_size\"] - 3, rand_params[\"leaf_size\"] + 3)\n",
    "\n",
    "params = {\"n_neighbors\": n_neighbors,\n",
    "          \"weights\": [rand_params[\"weights\"]],\n",
    "          \"algorithm\": [rand_params[\"algorithm\"]],\n",
    "          \"metric\": [rand_params[\"metric\"]],\n",
    "          \"leaf_size\": leaf_size}\n",
    "\n",
    "grid_search = GridSearchCV(KNeighborsClassifier(), params, scoring = \"accuracy\", cv = 5)\n",
    "grid_search.fit(X_train, y_train)\n",
    "\n",
    "grid_params = grid_search.best_params_\n",
    "print(grid_params, \"\\n\")\n",
    "print(\"Train accuracy:\", grid_search.best_score_)\n",
    "preds = grid_search.predict(X_test)\n",
    "print(\"Test accuracy:\", accuracy_score(preds, y_test))"
   ]
  },
  {
   "cell_type": "code",
   "execution_count": 6,
   "id": "2195d7f2",
   "metadata": {},
   "outputs": [
    {
     "name": "stdout",
     "output_type": "stream",
     "text": [
      "              precision    recall  f1-score   support\n",
      "\n",
      "           0       1.00      1.00      1.00        11\n",
      "           1       1.00      1.00      1.00        13\n",
      "           2       1.00      1.00      1.00         6\n",
      "\n",
      "    accuracy                           1.00        30\n",
      "   macro avg       1.00      1.00      1.00        30\n",
      "weighted avg       1.00      1.00      1.00        30\n",
      "\n"
     ]
    }
   ],
   "source": [
    "print(classification_report(preds, y_test))"
   ]
  }
 ],
 "metadata": {
  "kernelspec": {
   "display_name": "classifications-venv",
   "language": "python",
   "name": "python3"
  },
  "language_info": {
   "codemirror_mode": {
    "name": "ipython",
    "version": 3
   },
   "file_extension": ".py",
   "mimetype": "text/x-python",
   "name": "python",
   "nbconvert_exporter": "python",
   "pygments_lexer": "ipython3",
   "version": "3.13.7"
  }
 },
 "nbformat": 4,
 "nbformat_minor": 5
}
