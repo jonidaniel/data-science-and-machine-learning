{
 "cells": [
  {
   "cell_type": "markdown",
   "id": "f13dc444",
   "metadata": {},
   "source": [
    "# Lonboard Scatterplot Layer Example"
   ]
  },
  {
   "cell_type": "code",
   "execution_count": 41,
   "id": "e7b384c2",
   "metadata": {},
   "outputs": [],
   "source": [
    "import urllib.request\n",
    "import pandas as pd\n",
    "import geopandas as gpd\n",
    "import shapely\n",
    "\n",
    "from lonboard import Map, ScatterplotLayer"
   ]
  },
  {
   "cell_type": "markdown",
   "id": "077f120a",
   "metadata": {},
   "source": [
    "### Create a data frame"
   ]
  },
  {
   "cell_type": "code",
   "execution_count": 42,
   "id": "dcebd5f4",
   "metadata": {},
   "outputs": [],
   "source": [
    "# Download meteorite data and save it into a CSV file\n",
    "try:\n",
    "  urllib.request.urlretrieve(\"https://data.nasa.gov/docs/legacy/meteorite_landings/Meteorite_Landings.csv\", \"./assets/meteorite-data-nasa.csv\")\n",
    "except Exception as e:\n",
    "  print(f\"Error: {e}\")\n",
    "\n",
    "# Create a data frame from the CSV file\n",
    "df = pd.read_csv(\"./assets/meteorite-data-nasa.csv\")"
   ]
  },
  {
   "cell_type": "markdown",
   "id": "f32fdc80",
   "metadata": {},
   "source": [
    "### Wrangle the data"
   ]
  },
  {
   "cell_type": "code",
   "execution_count": 43,
   "id": "f3198e72",
   "metadata": {},
   "outputs": [],
   "source": [
    "# Get rid of unnecessary columns\n",
    "keep_cols = [\n",
    "    \"name\",\n",
    "    \"mass (g)\",\n",
    "    \"fall\",\n",
    "    \"year\",\n",
    "    \"reclat\",\n",
    "    \"reclong\"\n",
    "]\n",
    "df = df[keep_cols]"
   ]
  },
  {
   "cell_type": "code",
   "execution_count": 44,
   "id": "9a68c5d7",
   "metadata": {},
   "outputs": [
    {
     "data": {
      "text/plain": [
       "np.float64(0.16000962463907603)"
      ]
     },
     "execution_count": 44,
     "metadata": {},
     "output_type": "execute_result"
    }
   ],
   "source": [
    "# Show percentage of rows that have null reclong or reclat values\n",
    "(df[\"reclong\"].isna() | df[\"reclat\"].isna()).mean()"
   ]
  },
  {
   "cell_type": "code",
   "execution_count": 45,
   "id": "cd21cc4f",
   "metadata": {},
   "outputs": [],
   "source": [
    "# Keep only those rows where reclong nor reclat is null\n",
    "df = df[(df[\"reclong\"].notna() & df[\"reclat\"].notna())]"
   ]
  },
  {
   "cell_type": "code",
   "execution_count": 46,
   "id": "4ad67d33",
   "metadata": {},
   "outputs": [
    {
     "data": {
      "text/plain": [
       "np.float64(0.0)"
      ]
     },
     "execution_count": 46,
     "metadata": {},
     "output_type": "execute_result"
    }
   ],
   "source": [
    "# Now the null percentage is 0\n",
    "(df[\"reclong\"].isna() | df[\"reclat\"].isna()).mean()"
   ]
  },
  {
   "cell_type": "markdown",
   "id": "5c41f97d",
   "metadata": {},
   "source": [
    "### Create a geo data frame"
   ]
  },
  {
   "cell_type": "code",
   "execution_count": 47,
   "id": "f882147e",
   "metadata": {},
   "outputs": [],
   "source": [
    "# Construct a GeoDataFrame\n",
    "geometry = shapely.points(df.pop(\"reclong\"), df.pop(\"reclat\"))\n",
    "gdf = gpd.GeoDataFrame(df, geometry = geometry)\n",
    "\n",
    "# Set its Coordinate Reference System\n",
    "gdf = gdf.set_crs(\"EPSG:4326\")"
   ]
  },
  {
   "cell_type": "markdown",
   "id": "001d121b",
   "metadata": {},
   "source": [
    "### Create a scatterplot layer"
   ]
  },
  {
   "cell_type": "code",
   "execution_count": 48,
   "id": "d13c9afe",
   "metadata": {},
   "outputs": [
    {
     "data": {
      "application/vnd.jupyter.widget-view+json": {
       "model_id": "6294fd7c020047dcb40666139c31154f",
       "version_major": 2,
       "version_minor": 1
      },
      "text/plain": [
       "Map(custom_attribution='', layers=(ScatterplotLayer(opacity=0.25, radius_scale=7500.0, table=arro3.core.Table\n",
       "…"
      ]
     },
     "execution_count": 48,
     "metadata": {},
     "output_type": "execute_result"
    }
   ],
   "source": [
    "# Create a ScatterplotLayer from the geo data frame\n",
    "layer = ScatterplotLayer.from_geopandas(gdf)\n",
    "# Configure layer properties\n",
    "layer.radius_scale = 7500\n",
    "layer.opacity = 0.25\n",
    "# Create a map from the layer\n",
    "map = Map(layers = [layer])\n",
    "\n",
    "map"
   ]
  }
 ],
 "metadata": {
  "kernelspec": {
   "display_name": "other-venv",
   "language": "python",
   "name": "python3"
  },
  "language_info": {
   "codemirror_mode": {
    "name": "ipython",
    "version": 3
   },
   "file_extension": ".py",
   "mimetype": "text/x-python",
   "name": "python",
   "nbconvert_exporter": "python",
   "pygments_lexer": "ipython3",
   "version": "3.9.7"
  }
 },
 "nbformat": 4,
 "nbformat_minor": 5
}
