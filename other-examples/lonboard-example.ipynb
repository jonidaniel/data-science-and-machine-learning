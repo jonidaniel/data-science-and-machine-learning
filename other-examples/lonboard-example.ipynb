{
 "cells": [
  {
   "cell_type": "markdown",
   "id": "ec5a88ee",
   "metadata": {},
   "source": [
    "# Lonboard Example"
   ]
  },
  {
   "cell_type": "code",
   "execution_count": 43,
   "id": "a50e97d2",
   "metadata": {},
   "outputs": [],
   "source": [
    "from pathlib import Path\n",
    "\n",
    "import pandas as pd\n",
    "import geopandas as gpd\n",
    "import shapely\n",
    "from palettable.colorbrewer.diverging import BrBG_10\n",
    "from sidecar import Sidecar\n",
    "\n",
    "from lonboard import Map, ScatterplotLayer\n",
    "from lonboard.colormap import apply_continuous_cmap"
   ]
  },
  {
   "cell_type": "markdown",
   "id": "81db1b0f",
   "metadata": {},
   "source": [
    "### Create a geo data frame"
   ]
  },
  {
   "cell_type": "code",
   "execution_count": 44,
   "id": "f2031a8e",
   "metadata": {},
   "outputs": [],
   "source": [
    "local_path = Path(\"./assets/internet-speeds.parquet\")\n",
    "url = \"https://ookla-open-data.s3.us-west-2.amazonaws.com/parquet/performance/type=mobile/year=2019/quarter=1/2019-01-01_performance_mobile_tiles.parquet\"\n",
    "\n",
    "# Try to find data locally\n",
    "if local_path.exists():\n",
    "    gdf = gpd.read_parquet(local_path)\n",
    "else:\n",
    "    columns = [\"avg_d_kbps\", \"tile\"]\n",
    "    try:\n",
    "      # Download meteorite data and save it as a data frame\n",
    "      df = pd.read_parquet(url, columns = columns)\n",
    "    except Exception as e:\n",
    "      print(f\"Error: {e}\")\n",
    "\n",
    "    # Create tiles and centroids\n",
    "    tile_geometries = shapely.from_wkt(df[\"tile\"])\n",
    "    tile_centroids = shapely.centroid(tile_geometries)\n",
    "\n",
    "    # Create a geo data frame and pass it to a Parquet file\n",
    "    gdf = gpd.GeoDataFrame(df[[\"avg_d_kbps\"]], geometry = tile_centroids, crs = \"EPSG:4326\")\n",
    "    gdf.to_parquet(local_path)"
   ]
  },
  {
   "cell_type": "code",
   "execution_count": 45,
   "id": "6cd32c37",
   "metadata": {},
   "outputs": [
    {
     "data": {
      "text/html": [
       "<div>\n",
       "<style scoped>\n",
       "    .dataframe tbody tr th:only-of-type {\n",
       "        vertical-align: middle;\n",
       "    }\n",
       "\n",
       "    .dataframe tbody tr th {\n",
       "        vertical-align: top;\n",
       "    }\n",
       "\n",
       "    .dataframe thead th {\n",
       "        text-align: right;\n",
       "    }\n",
       "</style>\n",
       "<table border=\"1\" class=\"dataframe\">\n",
       "  <thead>\n",
       "    <tr style=\"text-align: right;\">\n",
       "      <th></th>\n",
       "      <th>avg_d_kbps</th>\n",
       "      <th>geometry</th>\n",
       "    </tr>\n",
       "  </thead>\n",
       "  <tbody>\n",
       "    <tr>\n",
       "      <th>0</th>\n",
       "      <td>5983</td>\n",
       "      <td>POINT (-160.01862 70.63722)</td>\n",
       "    </tr>\n",
       "    <tr>\n",
       "      <th>1</th>\n",
       "      <td>3748</td>\n",
       "      <td>POINT (-160.04059 70.63357)</td>\n",
       "    </tr>\n",
       "    <tr>\n",
       "      <th>2</th>\n",
       "      <td>3364</td>\n",
       "      <td>POINT (-160.04059 70.63175)</td>\n",
       "    </tr>\n",
       "    <tr>\n",
       "      <th>3</th>\n",
       "      <td>2381</td>\n",
       "      <td>POINT (-160.0351 70.63357)</td>\n",
       "    </tr>\n",
       "    <tr>\n",
       "      <th>4</th>\n",
       "      <td>3047</td>\n",
       "      <td>POINT (-160.0351 70.63175)</td>\n",
       "    </tr>\n",
       "    <tr>\n",
       "      <th>...</th>\n",
       "      <td>...</td>\n",
       "      <td>...</td>\n",
       "    </tr>\n",
       "    <tr>\n",
       "      <th>95</th>\n",
       "      <td>749</td>\n",
       "      <td>POINT (-52.12738 70.67543)</td>\n",
       "    </tr>\n",
       "    <tr>\n",
       "      <th>96</th>\n",
       "      <td>4271</td>\n",
       "      <td>POINT (-52.12189 70.67361)</td>\n",
       "    </tr>\n",
       "    <tr>\n",
       "      <th>97</th>\n",
       "      <td>1021</td>\n",
       "      <td>POINT (-52.11639 70.67724)</td>\n",
       "    </tr>\n",
       "    <tr>\n",
       "      <th>98</th>\n",
       "      <td>789</td>\n",
       "      <td>POINT (-51.63849 70.80949)</td>\n",
       "    </tr>\n",
       "    <tr>\n",
       "      <th>99</th>\n",
       "      <td>9345</td>\n",
       "      <td>POINT (-51.0672 69.23961)</td>\n",
       "    </tr>\n",
       "  </tbody>\n",
       "</table>\n",
       "<p>100 rows × 2 columns</p>\n",
       "</div>"
      ],
      "text/plain": [
       "    avg_d_kbps                     geometry\n",
       "0         5983  POINT (-160.01862 70.63722)\n",
       "1         3748  POINT (-160.04059 70.63357)\n",
       "2         3364  POINT (-160.04059 70.63175)\n",
       "3         2381   POINT (-160.0351 70.63357)\n",
       "4         3047   POINT (-160.0351 70.63175)\n",
       "..         ...                          ...\n",
       "95         749   POINT (-52.12738 70.67543)\n",
       "96        4271   POINT (-52.12189 70.67361)\n",
       "97        1021   POINT (-52.11639 70.67724)\n",
       "98         789   POINT (-51.63849 70.80949)\n",
       "99        9345    POINT (-51.0672 69.23961)\n",
       "\n",
       "[100 rows x 2 columns]"
      ]
     },
     "execution_count": 45,
     "metadata": {},
     "output_type": "execute_result"
    }
   ],
   "source": [
    "gdf.head(100)"
   ]
  },
  {
   "cell_type": "markdown",
   "id": "c91a1463",
   "metadata": {},
   "source": [
    "### Create a scatterplot layer"
   ]
  },
  {
   "cell_type": "code",
   "execution_count": 46,
   "id": "19764251",
   "metadata": {},
   "outputs": [],
   "source": [
    "# Create a scatterplot layer from the geo data frame\n",
    "layer = ScatterplotLayer.from_geopandas(gdf)\n",
    "\n",
    "# Configure the layer\n",
    "layer.get_fill_color = [0, 0, 200, 200]\n",
    "min_bound = 5000\n",
    "max_bound = 50000\n",
    "download_speed = gdf[\"avg_d_kbps\"]\n",
    "normalized_download_speed = (download_speed - min_bound) / (max_bound - min_bound)\n",
    "normalized_download_speed\n",
    "BrBG_10.mpl_colormap\n",
    "layer.get_fill_color = apply_continuous_cmap(normalized_download_speed, BrBG_10, alpha = 0.7)\n",
    "layer.get_radius = normalized_download_speed * 200\n",
    "layer.radius_units = \"meters\"\n",
    "layer.radius_min_pixels = 0.5"
   ]
  },
  {
   "cell_type": "markdown",
   "id": "41f3ac63",
   "metadata": {},
   "source": [
    "### Create a map"
   ]
  },
  {
   "cell_type": "code",
   "execution_count": 47,
   "id": "532bf60e",
   "metadata": {},
   "outputs": [
    {
     "data": {
      "application/vnd.jupyter.widget-view+json": {
       "model_id": "15983bad360240a498d331a53523ecc7",
       "version_major": 2,
       "version_minor": 1
      },
      "text/plain": [
       "Map(custom_attribution='', layers=(ScatterplotLayer(get_fill_color=arro3.core.ChunkedArray<FixedSizeList(Field…"
      ]
     },
     "execution_count": 47,
     "metadata": {},
     "output_type": "execute_result"
    }
   ],
   "source": [
    "sidecar = Sidecar()\n",
    "\n",
    "# Create a Lonboard map\n",
    "m = Map(layer)\n",
    "\n",
    "# with Sidecar:\n",
    "# display(m)\n",
    "m"
   ]
  }
 ],
 "metadata": {
  "kernelspec": {
   "display_name": "other-venv",
   "language": "python",
   "name": "python3"
  },
  "language_info": {
   "codemirror_mode": {
    "name": "ipython",
    "version": 3
   },
   "file_extension": ".py",
   "mimetype": "text/x-python",
   "name": "python",
   "nbconvert_exporter": "python",
   "pygments_lexer": "ipython3",
   "version": "3.9.7"
  }
 },
 "nbformat": 4,
 "nbformat_minor": 5
}
