{
 "cells": [
  {
   "cell_type": "markdown",
   "id": "27cb42fb",
   "metadata": {},
   "source": [
    "# Basic Data Science Functions"
   ]
  },
  {
   "cell_type": "code",
   "execution_count": 2,
   "id": "d3be6cd5",
   "metadata": {},
   "outputs": [],
   "source": [
    "import numpy as np\n",
    "from scipy import stats"
   ]
  },
  {
   "cell_type": "markdown",
   "id": "5762471c",
   "metadata": {},
   "source": [
    "### Mean, Median, and Mode"
   ]
  },
  {
   "cell_type": "code",
   "execution_count": 3,
   "id": "5a7d130b",
   "metadata": {},
   "outputs": [
    {
     "data": {
      "text/plain": [
       "np.float64(2.0)"
      ]
     },
     "execution_count": 3,
     "metadata": {},
     "output_type": "execute_result"
    }
   ],
   "source": [
    "# Mean\n",
    "np.mean([1, 2, 3]) # Array-like"
   ]
  },
  {
   "cell_type": "code",
   "execution_count": 4,
   "id": "4fa72502",
   "metadata": {},
   "outputs": [
    {
     "data": {
      "text/plain": [
       "np.float64(2.0)"
      ]
     },
     "execution_count": 4,
     "metadata": {},
     "output_type": "execute_result"
    }
   ],
   "source": [
    "# Median\n",
    "np.median([1, 2, 3]) # Array-like"
   ]
  },
  {
   "cell_type": "code",
   "execution_count": 5,
   "id": "c8f8d27e",
   "metadata": {},
   "outputs": [
    {
     "data": {
      "text/plain": [
       "ModeResult(mode=np.int64(1), count=np.int64(1))"
      ]
     },
     "execution_count": 5,
     "metadata": {},
     "output_type": "execute_result"
    }
   ],
   "source": [
    "# Mode\n",
    "stats.mode([1, 2, 3]) # Array-like"
   ]
  },
  {
   "cell_type": "markdown",
   "id": "de5b5720",
   "metadata": {},
   "source": [
    "### Standard Deviation and Variance"
   ]
  },
  {
   "cell_type": "code",
   "execution_count": 6,
   "id": "29faf4c6",
   "metadata": {},
   "outputs": [
    {
     "data": {
      "text/plain": [
       "np.float64(0.816496580927726)"
      ]
     },
     "execution_count": 6,
     "metadata": {},
     "output_type": "execute_result"
    }
   ],
   "source": [
    "# Standard deviation\n",
    "np.std([1, 2, 3]) # Array-like"
   ]
  },
  {
   "cell_type": "code",
   "execution_count": 7,
   "id": "1ae33bcc",
   "metadata": {},
   "outputs": [
    {
     "data": {
      "text/plain": [
       "np.float64(0.6666666666666666)"
      ]
     },
     "execution_count": 7,
     "metadata": {},
     "output_type": "execute_result"
    }
   ],
   "source": [
    "# Variance\n",
    "np.var([1, 2, 3]) # Array-like"
   ]
  },
  {
   "cell_type": "markdown",
   "id": "f06111b2",
   "metadata": {},
   "source": [
    "### Percentile"
   ]
  },
  {
   "cell_type": "code",
   "execution_count": 8,
   "id": "a7c60302",
   "metadata": {},
   "outputs": [
    {
     "data": {
      "text/plain": [
       "np.float64(1.5)"
      ]
     },
     "execution_count": 8,
     "metadata": {},
     "output_type": "execute_result"
    }
   ],
   "source": [
    "# Percentile\n",
    "np.percentile([1, 2, 3], 25) # Array-like, percentile"
   ]
  }
 ],
 "metadata": {
  "kernelspec": {
   "display_name": "data-science-basics-venv",
   "language": "python",
   "name": "python3"
  },
  "language_info": {
   "codemirror_mode": {
    "name": "ipython",
    "version": 3
   },
   "file_extension": ".py",
   "mimetype": "text/x-python",
   "name": "python",
   "nbconvert_exporter": "python",
   "pygments_lexer": "ipython3",
   "version": "3.13.7"
  }
 },
 "nbformat": 4,
 "nbformat_minor": 5
}
