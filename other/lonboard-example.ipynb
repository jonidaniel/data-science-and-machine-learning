{
 "cells": [
  {
   "cell_type": "markdown",
   "id": "ec5a88ee",
   "metadata": {},
   "source": [
    "# Lonboard Example"
   ]
  },
  {
   "cell_type": "code",
   "execution_count": 29,
   "id": "a50e97d2",
   "metadata": {},
   "outputs": [],
   "source": [
    "from pathlib import Path\n",
    "\n",
    "import geopandas as gpd\n",
    "import pandas as pd\n",
    "import shapely\n",
    "from palettable.colorbrewer.diverging import BrBG_10\n",
    "from sidecar import Sidecar\n",
    "\n",
    "from lonboard import Map, ScatterplotLayer\n",
    "from lonboard.colormap import apply_continuous_cmap"
   ]
  },
  {
   "cell_type": "code",
   "execution_count": 30,
   "id": "d2388ca5",
   "metadata": {},
   "outputs": [],
   "source": [
    "url = \"https://ookla-open-data.s3.us-west-2.amazonaws.com/parquet/performance/type=mobile/year=2019/quarter=1/2019-01-01_performance_mobile_tiles.parquet\""
   ]
  },
  {
   "cell_type": "code",
   "execution_count": 31,
   "id": "f2031a8e",
   "metadata": {},
   "outputs": [],
   "source": [
    "local_path = Path(\"./assets/internet-speeds.parquet\")\n",
    "\n",
    "if local_path.exists():\n",
    "    gdf = gpd.read_parquet(local_path)\n",
    "else:\n",
    "    # Create a data frame\n",
    "    columns = [\"avg_d_kbps\", \"tile\"]\n",
    "    df = pd.read_parquet(url, columns = columns)\n",
    "\n",
    "    # Create tiles and centroids\n",
    "    tile_geometries = shapely.from_wkt(df[\"tile\"])\n",
    "    tile_centroids = shapely.centroid(tile_geometries)\n",
    "\n",
    "    # Create a geo data frame and pass it to a Parquet file\n",
    "    gdf = gpd.GeoDataFrame(df[[\"avg_d_kbps\"]], geometry = tile_centroids, crs = \"EPSG:4326\")\n",
    "    gdf.to_parquet(local_path)"
   ]
  },
  {
   "cell_type": "code",
   "execution_count": 32,
   "id": "6cd32c37",
   "metadata": {},
   "outputs": [
    {
     "data": {
      "text/html": [
       "<div>\n",
       "<style scoped>\n",
       "    .dataframe tbody tr th:only-of-type {\n",
       "        vertical-align: middle;\n",
       "    }\n",
       "\n",
       "    .dataframe tbody tr th {\n",
       "        vertical-align: top;\n",
       "    }\n",
       "\n",
       "    .dataframe thead th {\n",
       "        text-align: right;\n",
       "    }\n",
       "</style>\n",
       "<table border=\"1\" class=\"dataframe\">\n",
       "  <thead>\n",
       "    <tr style=\"text-align: right;\">\n",
       "      <th></th>\n",
       "      <th>avg_d_kbps</th>\n",
       "      <th>geometry</th>\n",
       "    </tr>\n",
       "  </thead>\n",
       "  <tbody>\n",
       "    <tr>\n",
       "      <th>0</th>\n",
       "      <td>5983</td>\n",
       "      <td>POINT (-160.01862 70.63722)</td>\n",
       "    </tr>\n",
       "    <tr>\n",
       "      <th>1</th>\n",
       "      <td>3748</td>\n",
       "      <td>POINT (-160.04059 70.63357)</td>\n",
       "    </tr>\n",
       "    <tr>\n",
       "      <th>2</th>\n",
       "      <td>3364</td>\n",
       "      <td>POINT (-160.04059 70.63175)</td>\n",
       "    </tr>\n",
       "    <tr>\n",
       "      <th>3</th>\n",
       "      <td>2381</td>\n",
       "      <td>POINT (-160.0351 70.63357)</td>\n",
       "    </tr>\n",
       "    <tr>\n",
       "      <th>4</th>\n",
       "      <td>3047</td>\n",
       "      <td>POINT (-160.0351 70.63175)</td>\n",
       "    </tr>\n",
       "    <tr>\n",
       "      <th>...</th>\n",
       "      <td>...</td>\n",
       "      <td>...</td>\n",
       "    </tr>\n",
       "    <tr>\n",
       "      <th>3231240</th>\n",
       "      <td>19528</td>\n",
       "      <td>POINT (169.81842 -46.29571)</td>\n",
       "    </tr>\n",
       "    <tr>\n",
       "      <th>3231241</th>\n",
       "      <td>15693</td>\n",
       "      <td>POINT (169.81293 -46.3071)</td>\n",
       "    </tr>\n",
       "    <tr>\n",
       "      <th>3231242</th>\n",
       "      <td>26747</td>\n",
       "      <td>POINT (169.66461 -46.42082)</td>\n",
       "    </tr>\n",
       "    <tr>\n",
       "      <th>3231243</th>\n",
       "      <td>67995</td>\n",
       "      <td>POINT (169.65912 -46.4511)</td>\n",
       "    </tr>\n",
       "    <tr>\n",
       "      <th>3231244</th>\n",
       "      <td>1230</td>\n",
       "      <td>POINT (168.85162 -46.56075)</td>\n",
       "    </tr>\n",
       "  </tbody>\n",
       "</table>\n",
       "<p>3231245 rows × 2 columns</p>\n",
       "</div>"
      ],
      "text/plain": [
       "         avg_d_kbps                     geometry\n",
       "0              5983  POINT (-160.01862 70.63722)\n",
       "1              3748  POINT (-160.04059 70.63357)\n",
       "2              3364  POINT (-160.04059 70.63175)\n",
       "3              2381   POINT (-160.0351 70.63357)\n",
       "4              3047   POINT (-160.0351 70.63175)\n",
       "...             ...                          ...\n",
       "3231240       19528  POINT (169.81842 -46.29571)\n",
       "3231241       15693   POINT (169.81293 -46.3071)\n",
       "3231242       26747  POINT (169.66461 -46.42082)\n",
       "3231243       67995   POINT (169.65912 -46.4511)\n",
       "3231244        1230  POINT (168.85162 -46.56075)\n",
       "\n",
       "[3231245 rows x 2 columns]"
      ]
     },
     "execution_count": 32,
     "metadata": {},
     "output_type": "execute_result"
    }
   ],
   "source": [
    "gdf"
   ]
  },
  {
   "cell_type": "code",
   "execution_count": 33,
   "id": "976053b2",
   "metadata": {},
   "outputs": [],
   "source": [
    "sidecar = Sidecar()"
   ]
  },
  {
   "cell_type": "code",
   "execution_count": 34,
   "id": "cd5bfc21",
   "metadata": {},
   "outputs": [
    {
     "data": {
      "text/plain": [
       "geopandas.geodataframe.GeoDataFrame"
      ]
     },
     "execution_count": 34,
     "metadata": {},
     "output_type": "execute_result"
    }
   ],
   "source": [
    "type(gdf)"
   ]
  },
  {
   "cell_type": "code",
   "execution_count": 35,
   "id": "19764251",
   "metadata": {},
   "outputs": [
    {
     "ename": "NameError",
     "evalue": "name 'ArrowDtype' is not defined",
     "output_type": "error",
     "traceback": [
      "\u001b[0;31m---------------------------------------------------------------------------\u001b[0m",
      "\u001b[0;31mNameError\u001b[0m                                 Traceback (most recent call last)",
      "Cell \u001b[0;32mIn[35], line 2\u001b[0m\n\u001b[1;32m      1\u001b[0m \u001b[38;5;66;03m# Create a scatterplot layer from GeoPandas\u001b[39;00m\n\u001b[0;32m----> 2\u001b[0m layer \u001b[38;5;241m=\u001b[39m \u001b[43mScatterplotLayer\u001b[49m\u001b[38;5;241;43m.\u001b[39;49m\u001b[43mfrom_geopandas\u001b[49m\u001b[43m(\u001b[49m\u001b[43mgdf\u001b[49m\u001b[43m)\u001b[49m\n\u001b[1;32m      4\u001b[0m \u001b[38;5;66;03m# Configure the layer\u001b[39;00m\n\u001b[1;32m      5\u001b[0m layer\u001b[38;5;241m.\u001b[39mget_fill_color \u001b[38;5;241m=\u001b[39m [\u001b[38;5;241m0\u001b[39m, \u001b[38;5;241m0\u001b[39m, \u001b[38;5;241m200\u001b[39m, \u001b[38;5;241m200\u001b[39m]\n",
      "File \u001b[0;32m~/Desktop/python/other/other-venv/lib/python3.9/site-packages/lonboard/_layer.py:1326\u001b[0m, in \u001b[0;36mScatterplotLayer.from_geopandas\u001b[0;34m(cls, gdf, auto_downcast, **kwargs)\u001b[0m\n\u001b[1;32m   1318\u001b[0m \u001b[38;5;129m@classmethod\u001b[39m\n\u001b[1;32m   1319\u001b[0m \u001b[38;5;28;01mdef\u001b[39;00m\u001b[38;5;250m \u001b[39m\u001b[38;5;21mfrom_geopandas\u001b[39m(\n\u001b[1;32m   1320\u001b[0m     \u001b[38;5;28mcls\u001b[39m,\n\u001b[0;32m   (...)\u001b[0m\n\u001b[1;32m   1324\u001b[0m     \u001b[38;5;241m*\u001b[39m\u001b[38;5;241m*\u001b[39mkwargs: Unpack[ScatterplotLayerKwargs],\n\u001b[1;32m   1325\u001b[0m ) \u001b[38;5;241m-\u001b[39m\u001b[38;5;241m>\u001b[39m Self:\n\u001b[0;32m-> 1326\u001b[0m     \u001b[38;5;28;01mreturn\u001b[39;00m \u001b[38;5;28;43msuper\u001b[39;49m\u001b[43m(\u001b[49m\u001b[43m)\u001b[49m\u001b[38;5;241;43m.\u001b[39;49m\u001b[43mfrom_geopandas\u001b[49m\u001b[43m(\u001b[49m\u001b[43mgdf\u001b[49m\u001b[38;5;241;43m=\u001b[39;49m\u001b[43mgdf\u001b[49m\u001b[43m,\u001b[49m\u001b[43m \u001b[49m\u001b[43mauto_downcast\u001b[49m\u001b[38;5;241;43m=\u001b[39;49m\u001b[43mauto_downcast\u001b[49m\u001b[43m,\u001b[49m\u001b[43m \u001b[49m\u001b[38;5;241;43m*\u001b[39;49m\u001b[38;5;241;43m*\u001b[39;49m\u001b[43mkwargs\u001b[49m\u001b[43m)\u001b[49m\n",
      "File \u001b[0;32m~/Desktop/python/other/other-venv/lib/python3.9/site-packages/lonboard/_layer.py:421\u001b[0m, in \u001b[0;36mBaseArrowLayer.from_geopandas\u001b[0;34m(cls, gdf, auto_downcast, **kwargs)\u001b[0m\n\u001b[1;32m    400\u001b[0m \u001b[38;5;250m\u001b[39m\u001b[38;5;124;03m\"\"\"Construct a Layer from a geopandas GeoDataFrame.\u001b[39;00m\n\u001b[1;32m    401\u001b[0m \n\u001b[1;32m    402\u001b[0m \u001b[38;5;124;03mThe GeoDataFrame will be reprojected to `EPSG:4326` if it is not already in that\u001b[39;00m\n\u001b[0;32m   (...)\u001b[0m\n\u001b[1;32m    417\u001b[0m \n\u001b[1;32m    418\u001b[0m \u001b[38;5;124;03m\"\"\"\u001b[39;00m\n\u001b[1;32m    419\u001b[0m \u001b[38;5;28;01mif\u001b[39;00m auto_downcast:\n\u001b[1;32m    420\u001b[0m     \u001b[38;5;66;03m# Note: we don't deep copy because we don't need to clone geometries\u001b[39;00m\n\u001b[0;32m--> 421\u001b[0m     gdf \u001b[38;5;241m=\u001b[39m \u001b[43m_auto_downcast\u001b[49m\u001b[43m(\u001b[49m\u001b[43mgdf\u001b[49m\u001b[38;5;241;43m.\u001b[39;49m\u001b[43mcopy\u001b[49m\u001b[43m(\u001b[49m\u001b[43m)\u001b[49m\u001b[43m)\u001b[49m  \u001b[38;5;66;03m# type: ignore\u001b[39;00m\n\u001b[1;32m    423\u001b[0m table \u001b[38;5;241m=\u001b[39m geopandas_to_geoarrow(gdf)\n\u001b[1;32m    424\u001b[0m \u001b[38;5;28;01mreturn\u001b[39;00m \u001b[38;5;28mcls\u001b[39m(table\u001b[38;5;241m=\u001b[39mtable, \u001b[38;5;241m*\u001b[39m\u001b[38;5;241m*\u001b[39mkwargs)\n",
      "File \u001b[0;32m~/Desktop/python/other/other-venv/lib/python3.9/site-packages/lonboard/_utils.py:66\u001b[0m, in \u001b[0;36mauto_downcast\u001b[0;34m(df)\u001b[0m\n\u001b[1;32m     59\u001b[0m check_pandas_version()\n\u001b[1;32m     61\u001b[0m \u001b[38;5;66;03m# Convert objects to numeric types where possible.\u001b[39;00m\n\u001b[1;32m     62\u001b[0m \u001b[38;5;66;03m# Note: we have to exclude geometry because\u001b[39;00m\n\u001b[1;32m     63\u001b[0m \u001b[38;5;66;03m# `convert_dtypes(dtype_backend=\"pyarrow\")` fails on the geometory column, but we\u001b[39;00m\n\u001b[1;32m     64\u001b[0m \u001b[38;5;66;03m# also have to manually cast to a non-geo data frame because it'll fail to convert\u001b[39;00m\n\u001b[1;32m     65\u001b[0m \u001b[38;5;66;03m# dtypes on a GeoDataFrame without a geom col\u001b[39;00m\n\u001b[0;32m---> 66\u001b[0m casted_df \u001b[38;5;241m=\u001b[39m \u001b[43mpd\u001b[49m\u001b[38;5;241;43m.\u001b[39;49m\u001b[43mDataFrame\u001b[49m\u001b[43m(\u001b[49m\u001b[43mdf\u001b[49m\u001b[38;5;241;43m.\u001b[39;49m\u001b[43mselect_dtypes\u001b[49m\u001b[43m(\u001b[49m\u001b[43mexclude\u001b[49m\u001b[38;5;241;43m=\u001b[39;49m\u001b[38;5;124;43m\"\u001b[39;49m\u001b[38;5;124;43mgeometry\u001b[39;49m\u001b[38;5;124;43m\"\u001b[39;49m\u001b[43m)\u001b[49m\u001b[43m)\u001b[49m\u001b[38;5;241;43m.\u001b[39;49m\u001b[43mconvert_dtypes\u001b[49m\u001b[43m(\u001b[49m\u001b[43m  \u001b[49m\u001b[38;5;66;43;03m# type: ignore\u001b[39;49;00m\n\u001b[1;32m     67\u001b[0m \u001b[43m    \u001b[49m\u001b[43minfer_objects\u001b[49m\u001b[38;5;241;43m=\u001b[39;49m\u001b[38;5;28;43;01mTrue\u001b[39;49;00m\u001b[43m,\u001b[49m\n\u001b[1;32m     68\u001b[0m \u001b[43m    \u001b[49m\u001b[43mconvert_string\u001b[49m\u001b[38;5;241;43m=\u001b[39;49m\u001b[38;5;28;43;01mTrue\u001b[39;49;00m\u001b[43m,\u001b[49m\n\u001b[1;32m     69\u001b[0m \u001b[43m    \u001b[49m\u001b[43mconvert_integer\u001b[49m\u001b[38;5;241;43m=\u001b[39;49m\u001b[38;5;28;43;01mTrue\u001b[39;49;00m\u001b[43m,\u001b[49m\n\u001b[1;32m     70\u001b[0m \u001b[43m    \u001b[49m\u001b[43mconvert_boolean\u001b[49m\u001b[38;5;241;43m=\u001b[39;49m\u001b[38;5;28;43;01mTrue\u001b[39;49;00m\u001b[43m,\u001b[49m\n\u001b[1;32m     71\u001b[0m \u001b[43m    \u001b[49m\u001b[43mconvert_floating\u001b[49m\u001b[38;5;241;43m=\u001b[39;49m\u001b[38;5;28;43;01mTrue\u001b[39;49;00m\u001b[43m,\u001b[49m\n\u001b[1;32m     72\u001b[0m \u001b[43m    \u001b[49m\u001b[43mdtype_backend\u001b[49m\u001b[38;5;241;43m=\u001b[39;49m\u001b[38;5;124;43m\"\u001b[39;49m\u001b[38;5;124;43mpyarrow\u001b[39;49m\u001b[38;5;124;43m\"\u001b[39;49m\u001b[43m,\u001b[49m\n\u001b[1;32m     73\u001b[0m \u001b[43m\u001b[49m\u001b[43m)\u001b[49m\n\u001b[1;32m     74\u001b[0m df[casted_df\u001b[38;5;241m.\u001b[39mcolumns] \u001b[38;5;241m=\u001b[39m casted_df\n\u001b[1;32m     76\u001b[0m \u001b[38;5;66;03m# Try to convert _all_ integer columns to unsigned integer columns, but use\u001b[39;00m\n\u001b[1;32m     77\u001b[0m \u001b[38;5;66;03m# errors='ignore' to return signed integer data types for columns with negative\u001b[39;00m\n\u001b[1;32m     78\u001b[0m \u001b[38;5;66;03m# integers.\u001b[39;00m\n",
      "File \u001b[0;32m~/Desktop/python/other/other-venv/lib/python3.9/site-packages/pandas/core/generic.py:7053\u001b[0m, in \u001b[0;36mNDFrame.convert_dtypes\u001b[0;34m(self, infer_objects, convert_string, convert_integer, convert_boolean, convert_floating, dtype_backend)\u001b[0m\n\u001b[1;32m   6924\u001b[0m \u001b[38;5;250m\u001b[39m\u001b[38;5;124;03m\"\"\"\u001b[39;00m\n\u001b[1;32m   6925\u001b[0m \u001b[38;5;124;03mConvert columns to the best possible dtypes using dtypes supporting ``pd.NA``.\u001b[39;00m\n\u001b[1;32m   6926\u001b[0m \n\u001b[0;32m   (...)\u001b[0m\n\u001b[1;32m   7050\u001b[0m \u001b[38;5;124;03mdtype: string\u001b[39;00m\n\u001b[1;32m   7051\u001b[0m \u001b[38;5;124;03m\"\"\"\u001b[39;00m\n\u001b[1;32m   7052\u001b[0m check_dtype_backend(dtype_backend)\n\u001b[0;32m-> 7053\u001b[0m new_mgr \u001b[38;5;241m=\u001b[39m \u001b[38;5;28;43mself\u001b[39;49m\u001b[38;5;241;43m.\u001b[39;49m\u001b[43m_mgr\u001b[49m\u001b[38;5;241;43m.\u001b[39;49m\u001b[43mconvert_dtypes\u001b[49m\u001b[43m(\u001b[49m\u001b[43m  \u001b[49m\u001b[38;5;66;43;03m# type: ignore[union-attr]\u001b[39;49;00m\n\u001b[1;32m   7054\u001b[0m \u001b[43m    \u001b[49m\u001b[43minfer_objects\u001b[49m\u001b[38;5;241;43m=\u001b[39;49m\u001b[43minfer_objects\u001b[49m\u001b[43m,\u001b[49m\n\u001b[1;32m   7055\u001b[0m \u001b[43m    \u001b[49m\u001b[43mconvert_string\u001b[49m\u001b[38;5;241;43m=\u001b[39;49m\u001b[43mconvert_string\u001b[49m\u001b[43m,\u001b[49m\n\u001b[1;32m   7056\u001b[0m \u001b[43m    \u001b[49m\u001b[43mconvert_integer\u001b[49m\u001b[38;5;241;43m=\u001b[39;49m\u001b[43mconvert_integer\u001b[49m\u001b[43m,\u001b[49m\n\u001b[1;32m   7057\u001b[0m \u001b[43m    \u001b[49m\u001b[43mconvert_boolean\u001b[49m\u001b[38;5;241;43m=\u001b[39;49m\u001b[43mconvert_boolean\u001b[49m\u001b[43m,\u001b[49m\n\u001b[1;32m   7058\u001b[0m \u001b[43m    \u001b[49m\u001b[43mconvert_floating\u001b[49m\u001b[38;5;241;43m=\u001b[39;49m\u001b[43mconvert_floating\u001b[49m\u001b[43m,\u001b[49m\n\u001b[1;32m   7059\u001b[0m \u001b[43m    \u001b[49m\u001b[43mdtype_backend\u001b[49m\u001b[38;5;241;43m=\u001b[39;49m\u001b[43mdtype_backend\u001b[49m\u001b[43m,\u001b[49m\n\u001b[1;32m   7060\u001b[0m \u001b[43m\u001b[49m\u001b[43m)\u001b[49m\n\u001b[1;32m   7061\u001b[0m res \u001b[38;5;241m=\u001b[39m \u001b[38;5;28mself\u001b[39m\u001b[38;5;241m.\u001b[39m_constructor_from_mgr(new_mgr, axes\u001b[38;5;241m=\u001b[39mnew_mgr\u001b[38;5;241m.\u001b[39maxes)\n\u001b[1;32m   7062\u001b[0m \u001b[38;5;28;01mreturn\u001b[39;00m res\u001b[38;5;241m.\u001b[39m__finalize__(\u001b[38;5;28mself\u001b[39m, method\u001b[38;5;241m=\u001b[39m\u001b[38;5;124m\"\u001b[39m\u001b[38;5;124mconvert_dtypes\u001b[39m\u001b[38;5;124m\"\u001b[39m)\n",
      "File \u001b[0;32m~/Desktop/python/other/other-venv/lib/python3.9/site-packages/pandas/core/internals/managers.py:474\u001b[0m, in \u001b[0;36mBaseBlockManager.convert_dtypes\u001b[0;34m(self, **kwargs)\u001b[0m\n\u001b[1;32m    471\u001b[0m \u001b[38;5;28;01melse\u001b[39;00m:\n\u001b[1;32m    472\u001b[0m     copy \u001b[38;5;241m=\u001b[39m \u001b[38;5;28;01mTrue\u001b[39;00m\n\u001b[0;32m--> 474\u001b[0m \u001b[38;5;28;01mreturn\u001b[39;00m \u001b[38;5;28;43mself\u001b[39;49m\u001b[38;5;241;43m.\u001b[39;49m\u001b[43mapply\u001b[49m\u001b[43m(\u001b[49m\n\u001b[1;32m    475\u001b[0m \u001b[43m    \u001b[49m\u001b[38;5;124;43m\"\u001b[39;49m\u001b[38;5;124;43mconvert_dtypes\u001b[39;49m\u001b[38;5;124;43m\"\u001b[39;49m\u001b[43m,\u001b[49m\u001b[43m \u001b[49m\u001b[43mcopy\u001b[49m\u001b[38;5;241;43m=\u001b[39;49m\u001b[43mcopy\u001b[49m\u001b[43m,\u001b[49m\u001b[43m \u001b[49m\u001b[43musing_cow\u001b[49m\u001b[38;5;241;43m=\u001b[39;49m\u001b[43musing_copy_on_write\u001b[49m\u001b[43m(\u001b[49m\u001b[43m)\u001b[49m\u001b[43m,\u001b[49m\u001b[43m \u001b[49m\u001b[38;5;241;43m*\u001b[39;49m\u001b[38;5;241;43m*\u001b[39;49m\u001b[43mkwargs\u001b[49m\n\u001b[1;32m    476\u001b[0m \u001b[43m\u001b[49m\u001b[43m)\u001b[49m\n",
      "File \u001b[0;32m~/Desktop/python/other/other-venv/lib/python3.9/site-packages/pandas/core/internals/managers.py:363\u001b[0m, in \u001b[0;36mBaseBlockManager.apply\u001b[0;34m(self, f, align_keys, **kwargs)\u001b[0m\n\u001b[1;32m    361\u001b[0m         applied \u001b[38;5;241m=\u001b[39m b\u001b[38;5;241m.\u001b[39mapply(f, \u001b[38;5;241m*\u001b[39m\u001b[38;5;241m*\u001b[39mkwargs)\n\u001b[1;32m    362\u001b[0m     \u001b[38;5;28;01melse\u001b[39;00m:\n\u001b[0;32m--> 363\u001b[0m         applied \u001b[38;5;241m=\u001b[39m \u001b[38;5;28;43mgetattr\u001b[39;49m\u001b[43m(\u001b[49m\u001b[43mb\u001b[49m\u001b[43m,\u001b[49m\u001b[43m \u001b[49m\u001b[43mf\u001b[49m\u001b[43m)\u001b[49m\u001b[43m(\u001b[49m\u001b[38;5;241;43m*\u001b[39;49m\u001b[38;5;241;43m*\u001b[39;49m\u001b[43mkwargs\u001b[49m\u001b[43m)\u001b[49m\n\u001b[1;32m    364\u001b[0m     result_blocks \u001b[38;5;241m=\u001b[39m extend_blocks(applied, result_blocks)\n\u001b[1;32m    366\u001b[0m out \u001b[38;5;241m=\u001b[39m \u001b[38;5;28mtype\u001b[39m(\u001b[38;5;28mself\u001b[39m)\u001b[38;5;241m.\u001b[39mfrom_blocks(result_blocks, \u001b[38;5;28mself\u001b[39m\u001b[38;5;241m.\u001b[39maxes)\n",
      "File \u001b[0;32m~/Desktop/python/other/other-venv/lib/python3.9/site-packages/pandas/core/internals/blocks.py:720\u001b[0m, in \u001b[0;36mBlock.convert_dtypes\u001b[0;34m(self, copy, using_cow, infer_objects, convert_string, convert_integer, convert_boolean, convert_floating, dtype_backend)\u001b[0m\n\u001b[1;32m    717\u001b[0m \u001b[38;5;28;01mfor\u001b[39;00m blk \u001b[38;5;129;01min\u001b[39;00m blks:\n\u001b[1;32m    718\u001b[0m     \u001b[38;5;66;03m# Determine dtype column by column\u001b[39;00m\n\u001b[1;32m    719\u001b[0m     sub_blks \u001b[38;5;241m=\u001b[39m [blk] \u001b[38;5;28;01mif\u001b[39;00m blk\u001b[38;5;241m.\u001b[39mndim \u001b[38;5;241m==\u001b[39m \u001b[38;5;241m1\u001b[39m \u001b[38;5;129;01mor\u001b[39;00m \u001b[38;5;28mself\u001b[39m\u001b[38;5;241m.\u001b[39mshape[\u001b[38;5;241m0\u001b[39m] \u001b[38;5;241m==\u001b[39m \u001b[38;5;241m1\u001b[39m \u001b[38;5;28;01melse\u001b[39;00m blk\u001b[38;5;241m.\u001b[39m_split()\n\u001b[0;32m--> 720\u001b[0m     dtypes \u001b[38;5;241m=\u001b[39m [\n\u001b[1;32m    721\u001b[0m         convert_dtypes(\n\u001b[1;32m    722\u001b[0m             b\u001b[38;5;241m.\u001b[39mvalues,\n\u001b[1;32m    723\u001b[0m             convert_string,\n\u001b[1;32m    724\u001b[0m             convert_integer,\n\u001b[1;32m    725\u001b[0m             convert_boolean,\n\u001b[1;32m    726\u001b[0m             convert_floating,\n\u001b[1;32m    727\u001b[0m             infer_objects,\n\u001b[1;32m    728\u001b[0m             dtype_backend,\n\u001b[1;32m    729\u001b[0m         )\n\u001b[1;32m    730\u001b[0m         \u001b[38;5;28;01mfor\u001b[39;00m b \u001b[38;5;129;01min\u001b[39;00m sub_blks\n\u001b[1;32m    731\u001b[0m     ]\n\u001b[1;32m    732\u001b[0m     \u001b[38;5;28;01mif\u001b[39;00m \u001b[38;5;28mall\u001b[39m(dtype \u001b[38;5;241m==\u001b[39m \u001b[38;5;28mself\u001b[39m\u001b[38;5;241m.\u001b[39mdtype \u001b[38;5;28;01mfor\u001b[39;00m dtype \u001b[38;5;129;01min\u001b[39;00m dtypes):\n\u001b[1;32m    733\u001b[0m         \u001b[38;5;66;03m# Avoid block splitting if no dtype changes\u001b[39;00m\n\u001b[1;32m    734\u001b[0m         rbs\u001b[38;5;241m.\u001b[39mappend(blk\u001b[38;5;241m.\u001b[39mcopy(deep\u001b[38;5;241m=\u001b[39mcopy))\n",
      "File \u001b[0;32m~/Desktop/python/other/other-venv/lib/python3.9/site-packages/pandas/core/internals/blocks.py:721\u001b[0m, in \u001b[0;36m<listcomp>\u001b[0;34m(.0)\u001b[0m\n\u001b[1;32m    717\u001b[0m \u001b[38;5;28;01mfor\u001b[39;00m blk \u001b[38;5;129;01min\u001b[39;00m blks:\n\u001b[1;32m    718\u001b[0m     \u001b[38;5;66;03m# Determine dtype column by column\u001b[39;00m\n\u001b[1;32m    719\u001b[0m     sub_blks \u001b[38;5;241m=\u001b[39m [blk] \u001b[38;5;28;01mif\u001b[39;00m blk\u001b[38;5;241m.\u001b[39mndim \u001b[38;5;241m==\u001b[39m \u001b[38;5;241m1\u001b[39m \u001b[38;5;129;01mor\u001b[39;00m \u001b[38;5;28mself\u001b[39m\u001b[38;5;241m.\u001b[39mshape[\u001b[38;5;241m0\u001b[39m] \u001b[38;5;241m==\u001b[39m \u001b[38;5;241m1\u001b[39m \u001b[38;5;28;01melse\u001b[39;00m blk\u001b[38;5;241m.\u001b[39m_split()\n\u001b[1;32m    720\u001b[0m     dtypes \u001b[38;5;241m=\u001b[39m [\n\u001b[0;32m--> 721\u001b[0m         \u001b[43mconvert_dtypes\u001b[49m\u001b[43m(\u001b[49m\n\u001b[1;32m    722\u001b[0m \u001b[43m            \u001b[49m\u001b[43mb\u001b[49m\u001b[38;5;241;43m.\u001b[39;49m\u001b[43mvalues\u001b[49m\u001b[43m,\u001b[49m\n\u001b[1;32m    723\u001b[0m \u001b[43m            \u001b[49m\u001b[43mconvert_string\u001b[49m\u001b[43m,\u001b[49m\n\u001b[1;32m    724\u001b[0m \u001b[43m            \u001b[49m\u001b[43mconvert_integer\u001b[49m\u001b[43m,\u001b[49m\n\u001b[1;32m    725\u001b[0m \u001b[43m            \u001b[49m\u001b[43mconvert_boolean\u001b[49m\u001b[43m,\u001b[49m\n\u001b[1;32m    726\u001b[0m \u001b[43m            \u001b[49m\u001b[43mconvert_floating\u001b[49m\u001b[43m,\u001b[49m\n\u001b[1;32m    727\u001b[0m \u001b[43m            \u001b[49m\u001b[43minfer_objects\u001b[49m\u001b[43m,\u001b[49m\n\u001b[1;32m    728\u001b[0m \u001b[43m            \u001b[49m\u001b[43mdtype_backend\u001b[49m\u001b[43m,\u001b[49m\n\u001b[1;32m    729\u001b[0m \u001b[43m        \u001b[49m\u001b[43m)\u001b[49m\n\u001b[1;32m    730\u001b[0m         \u001b[38;5;28;01mfor\u001b[39;00m b \u001b[38;5;129;01min\u001b[39;00m sub_blks\n\u001b[1;32m    731\u001b[0m     ]\n\u001b[1;32m    732\u001b[0m     \u001b[38;5;28;01mif\u001b[39;00m \u001b[38;5;28mall\u001b[39m(dtype \u001b[38;5;241m==\u001b[39m \u001b[38;5;28mself\u001b[39m\u001b[38;5;241m.\u001b[39mdtype \u001b[38;5;28;01mfor\u001b[39;00m dtype \u001b[38;5;129;01min\u001b[39;00m dtypes):\n\u001b[1;32m    733\u001b[0m         \u001b[38;5;66;03m# Avoid block splitting if no dtype changes\u001b[39;00m\n\u001b[1;32m    734\u001b[0m         rbs\u001b[38;5;241m.\u001b[39mappend(blk\u001b[38;5;241m.\u001b[39mcopy(deep\u001b[38;5;241m=\u001b[39mcopy))\n",
      "File \u001b[0;32m~/Desktop/python/other/other-venv/lib/python3.9/site-packages/pandas/core/dtypes/cast.py:1154\u001b[0m, in \u001b[0;36mconvert_dtypes\u001b[0;34m(input_array, convert_string, convert_integer, convert_boolean, convert_floating, infer_objects, dtype_backend)\u001b[0m\n\u001b[1;32m   1152\u001b[0m     pa_type \u001b[38;5;241m=\u001b[39m pa\u001b[38;5;241m.\u001b[39mnull()\n\u001b[1;32m   1153\u001b[0m \u001b[38;5;28;01melse\u001b[39;00m:\n\u001b[0;32m-> 1154\u001b[0m     pa_type \u001b[38;5;241m=\u001b[39m \u001b[43mto_pyarrow_type\u001b[49m\u001b[43m(\u001b[49m\u001b[43mbase_dtype\u001b[49m\u001b[43m)\u001b[49m\n\u001b[1;32m   1155\u001b[0m \u001b[38;5;28;01mif\u001b[39;00m pa_type \u001b[38;5;129;01mis\u001b[39;00m \u001b[38;5;129;01mnot\u001b[39;00m \u001b[38;5;28;01mNone\u001b[39;00m:\n\u001b[1;32m   1156\u001b[0m     inferred_dtype \u001b[38;5;241m=\u001b[39m ArrowDtype(pa_type)\n",
      "File \u001b[0;32m~/Desktop/python/other/other-venv/lib/python3.9/site-packages/pandas/core/arrays/arrow/array.py:225\u001b[0m, in \u001b[0;36mto_pyarrow_type\u001b[0;34m(dtype)\u001b[0m\n\u001b[1;32m    219\u001b[0m \u001b[38;5;28;01mdef\u001b[39;00m\u001b[38;5;250m \u001b[39m\u001b[38;5;21mto_pyarrow_type\u001b[39m(\n\u001b[1;32m    220\u001b[0m     dtype: ArrowDtype \u001b[38;5;241m|\u001b[39m pa\u001b[38;5;241m.\u001b[39mDataType \u001b[38;5;241m|\u001b[39m Dtype \u001b[38;5;241m|\u001b[39m \u001b[38;5;28;01mNone\u001b[39;00m,\n\u001b[1;32m    221\u001b[0m ) \u001b[38;5;241m-\u001b[39m\u001b[38;5;241m>\u001b[39m pa\u001b[38;5;241m.\u001b[39mDataType \u001b[38;5;241m|\u001b[39m \u001b[38;5;28;01mNone\u001b[39;00m:\n\u001b[1;32m    222\u001b[0m \u001b[38;5;250m    \u001b[39m\u001b[38;5;124;03m\"\"\"\u001b[39;00m\n\u001b[1;32m    223\u001b[0m \u001b[38;5;124;03m    Convert dtype to a pyarrow type instance.\u001b[39;00m\n\u001b[1;32m    224\u001b[0m \u001b[38;5;124;03m    \"\"\"\u001b[39;00m\n\u001b[0;32m--> 225\u001b[0m     \u001b[38;5;28;01mif\u001b[39;00m \u001b[38;5;28misinstance\u001b[39m(dtype, \u001b[43mArrowDtype\u001b[49m):\n\u001b[1;32m    226\u001b[0m         \u001b[38;5;28;01mreturn\u001b[39;00m dtype\u001b[38;5;241m.\u001b[39mpyarrow_dtype\n\u001b[1;32m    227\u001b[0m     \u001b[38;5;28;01melif\u001b[39;00m \u001b[38;5;28misinstance\u001b[39m(dtype, pa\u001b[38;5;241m.\u001b[39mDataType):\n",
      "\u001b[0;31mNameError\u001b[0m: name 'ArrowDtype' is not defined"
     ]
    }
   ],
   "source": [
    "# Create a scatterplot layer from GeoPandas\n",
    "layer = ScatterplotLayer.from_geopandas(gdf)\n",
    "\n",
    "# Configure the layer\n",
    "layer.get_fill_color = [0, 0, 200, 200]\n",
    "min_bound = 5000\n",
    "max_bound = 50000\n",
    "download_speed = gdf[\"avg_d_kbps\"]\n",
    "normalized_download_speed = (download_speed - min_bound) / (max_bound - min_bound)\n",
    "normalized_download_speed\n",
    "BrBG_10.mpl_colormap\n",
    "layer.get_fill_color = apply_continuous_cmap(normalized_download_speed, BrBG_10, alpha = 0.7)\n",
    "layer.get_radius = normalized_download_speed * 200\n",
    "layer.radius_units = \"meters\"\n",
    "layer.radius_min_pixels = 0.5\n",
    "\n",
    "# Create a Lonboard map\n",
    "m = Map(layer, height = 800)\n",
    "# with Sidecar:\n",
    "# display(m)\n",
    "m"
   ]
  }
 ],
 "metadata": {
  "kernelspec": {
   "display_name": "other-venv",
   "language": "python",
   "name": "python3"
  },
  "language_info": {
   "codemirror_mode": {
    "name": "ipython",
    "version": 3
   },
   "file_extension": ".py",
   "mimetype": "text/x-python",
   "name": "python",
   "nbconvert_exporter": "python",
   "pygments_lexer": "ipython3",
   "version": "3.9.7"
  }
 },
 "nbformat": 4,
 "nbformat_minor": 5
}
