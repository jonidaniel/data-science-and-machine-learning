{
 "cells": [
  {
   "cell_type": "markdown",
   "id": "f13dc444",
   "metadata": {},
   "source": [
    "# Lonboard Scatterplot Layer Example"
   ]
  },
  {
   "cell_type": "code",
   "execution_count": null,
   "id": "e7b384c2",
   "metadata": {},
   "outputs": [],
   "source": [
    "import os\n",
    "import geopandas as gpd\n",
    "import matplotlib as mpl\n",
    "import numpy as np\n",
    "import pandas as pd\n",
    "import shapely\n",
    "\n",
    "from lonboard import Map, ScatterplotLayer"
   ]
  },
  {
   "cell_type": "markdown",
   "id": "077f120a",
   "metadata": {},
   "source": [
    "### Create a data frame"
   ]
  },
  {
   "cell_type": "code",
   "execution_count": null,
   "id": "dcebd5f4",
   "metadata": {},
   "outputs": [],
   "source": [
    "# Create a data frame from a CSV file\n",
    "df = pd.read_csv(\"./assets/meteorite-data-nasa.csv\")"
   ]
  },
  {
   "cell_type": "markdown",
   "id": "f32fdc80",
   "metadata": {},
   "source": [
    "### Wrangle the data"
   ]
  },
  {
   "cell_type": "code",
   "execution_count": null,
   "id": "f3198e72",
   "metadata": {},
   "outputs": [],
   "source": [
    "# Get rid of unnecessary columns\n",
    "keep_cols = [\n",
    "    \"name\",\n",
    "    \"mass (g)\",\n",
    "    \"fall\",\n",
    "    \"year\",\n",
    "    \"reclat\",\n",
    "    \"reclong\"\n",
    "]\n",
    "df = df[keep_cols]"
   ]
  },
  {
   "cell_type": "code",
   "execution_count": null,
   "id": "9a68c5d7",
   "metadata": {},
   "outputs": [
    {
     "data": {
      "text/plain": [
       "np.float64(0.16000962463907603)"
      ]
     },
     "execution_count": 203,
     "metadata": {},
     "output_type": "execute_result"
    }
   ],
   "source": [
    "# Show percentage of rows that have null reclong or reclat values\n",
    "(df[\"reclong\"].isna() | df[\"reclat\"].isna()).mean()"
   ]
  },
  {
   "cell_type": "code",
   "execution_count": null,
   "id": "cd21cc4f",
   "metadata": {},
   "outputs": [],
   "source": [
    "# Keep only those rows where reclong nor reclat is null\n",
    "df = df[(df[\"reclong\"].notna() & df[\"reclat\"].notna())]"
   ]
  },
  {
   "cell_type": "code",
   "execution_count": null,
   "id": "4ad67d33",
   "metadata": {},
   "outputs": [
    {
     "data": {
      "text/plain": [
       "np.float64(0.0)"
      ]
     },
     "execution_count": 205,
     "metadata": {},
     "output_type": "execute_result"
    }
   ],
   "source": [
    "# Now the null percentage is 0\n",
    "(df[\"reclong\"].isna() | df[\"reclat\"].isna()).mean()"
   ]
  },
  {
   "cell_type": "markdown",
   "id": "5c41f97d",
   "metadata": {},
   "source": [
    "### Create a geo data frame"
   ]
  },
  {
   "cell_type": "code",
   "execution_count": null,
   "id": "f882147e",
   "metadata": {},
   "outputs": [],
   "source": [
    "# Construct a GeoDataFrame\n",
    "geometry = shapely.points(df.pop(\"reclong\"), df.pop(\"reclat\"))\n",
    "gdf = gpd.GeoDataFrame(df, geometry = geometry)"
   ]
  },
  {
   "cell_type": "markdown",
   "id": "001d121b",
   "metadata": {},
   "source": [
    "### Create a scatterplot layer"
   ]
  },
  {
   "cell_type": "code",
   "execution_count": null,
   "id": "d13c9afe",
   "metadata": {},
   "outputs": [
    {
     "name": "stderr",
     "output_type": "stream",
     "text": [
      "/Users/fosse/Desktop/python/meteorite-landings-data-analysis/my-env/lib/python3.13/site-packages/lonboard/_geoarrow/ops/reproject.py:40: UserWarning: No CRS exists on data. If no data is shown on the map, double check that your CRS is WGS84.\n",
      "  warn(\n"
     ]
    },
    {
     "data": {
      "application/vnd.jupyter.widget-view+json": {
       "model_id": "4fbab127a5a64449b278db8e40114468",
       "version_major": 2,
       "version_minor": 1
      },
      "text/plain": [
       "Map(custom_attribution='', height='800px', layers=(ScatterplotLayer(opacity=0.25, radius_scale=7500.0, table=a…"
      ]
     },
     "execution_count": 207,
     "metadata": {},
     "output_type": "execute_result"
    }
   ],
   "source": [
    "# Create a ScatterplotLayer from the GeoDataFrame\n",
    "layer = ScatterplotLayer.from_geopandas(gdf)\n",
    "# Configure layer properties\n",
    "layer.radius_scale = 7500\n",
    "layer.opacity = 0.25\n",
    "# Create a map with the layer\n",
    "map = Map(layers = [layer], height = 800)\n",
    "map"
   ]
  }
 ],
 "metadata": {
  "kernelspec": {
   "display_name": "my-env",
   "language": "python",
   "name": "python3"
  },
  "language_info": {
   "codemirror_mode": {
    "name": "ipython",
    "version": 3
   },
   "file_extension": ".py",
   "mimetype": "text/x-python",
   "name": "python",
   "nbconvert_exporter": "python",
   "pygments_lexer": "ipython3",
   "version": "3.13.7"
  }
 },
 "nbformat": 4,
 "nbformat_minor": 5
}
