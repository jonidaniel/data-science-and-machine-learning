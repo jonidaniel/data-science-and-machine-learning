{
 "cells": [
  {
   "cell_type": "code",
   "execution_count": 154,
   "id": "a50e97d2",
   "metadata": {},
   "outputs": [],
   "source": [
    "# Lonboard ScatterplotLayer example can be found at:\n",
    "# https://developmentseed.org/lonboard/latest/examples/internet-speeds/\n",
    "\n",
    "from pathlib import Path\n",
    "\n",
    "import geopandas as gpd\n",
    "import pandas as pd\n",
    "import shapely\n",
    "from palettable.colorbrewer.diverging import BrBG_10\n",
    "from sidecar import Sidecar\n",
    "\n",
    "from lonboard import Map, ScatterplotLayer\n",
    "from lonboard.colormap import apply_continuous_cmap"
   ]
  },
  {
   "cell_type": "code",
   "execution_count": 155,
   "id": "d2388ca5",
   "metadata": {},
   "outputs": [],
   "source": [
    "url = \"https://ookla-open-data.s3.us-west-2.amazonaws.com/parquet/performance/type=mobile/year=2019/quarter=1/2019-01-01_performance_mobile_tiles.parquet\""
   ]
  },
  {
   "cell_type": "code",
   "execution_count": 156,
   "id": "f2031a8e",
   "metadata": {},
   "outputs": [],
   "source": [
    "local_path = Path(\"internet-speeds.parquet\")\n",
    "#local_path = Path(\"meteorites.xlsx\")\n",
    "if local_path.exists():\n",
    "    gdf = gpd.read_parquet(local_path)\n",
    "    #gdf = gpd.read_file(local_path)\n",
    "else:\n",
    "    # Create a DataFrame\n",
    "    columns = [\"avg_d_kbps\", \"tile\"]\n",
    "    #columns = [\"mass (g)\"]\n",
    "    df = pd.read_parquet(url, columns = columns)\n",
    "    #df = pd.read_excel(\"meteorites.xlsx\", columns = columns)\n",
    "\n",
    "    # Create tiles and centroids\n",
    "    tile_geometries = shapely.from_wkt(df[\"tile\"])\n",
    "    tile_centroids = shapely.centroid(tile_geometries)\n",
    "    # Create a GeoDataFrame and pass it to a Parquet file\n",
    "    gdf = gpd.GeoDataFrame(df[[\"avg_d_kbps\"]], geometry = tile_centroids, crs = \"EPSG:4326\")\n",
    "    #gdf = gpd.GeoDataFrame(df[[\"mass (g)\"]], geometry = gpd.points_from_xy(df[\"reclong\"], df[\"reclat\"]))\n",
    "    gdf.to_parquet(local_path)"
   ]
  },
  {
   "cell_type": "code",
   "execution_count": 157,
   "id": "6cd32c37",
   "metadata": {},
   "outputs": [
    {
     "data": {
      "text/html": [
       "<div>\n",
       "<style scoped>\n",
       "    .dataframe tbody tr th:only-of-type {\n",
       "        vertical-align: middle;\n",
       "    }\n",
       "\n",
       "    .dataframe tbody tr th {\n",
       "        vertical-align: top;\n",
       "    }\n",
       "\n",
       "    .dataframe thead th {\n",
       "        text-align: right;\n",
       "    }\n",
       "</style>\n",
       "<table border=\"1\" class=\"dataframe\">\n",
       "  <thead>\n",
       "    <tr style=\"text-align: right;\">\n",
       "      <th></th>\n",
       "      <th>avg_d_kbps</th>\n",
       "      <th>geometry</th>\n",
       "    </tr>\n",
       "  </thead>\n",
       "  <tbody>\n",
       "    <tr>\n",
       "      <th>0</th>\n",
       "      <td>5983</td>\n",
       "      <td>POINT (-160.01862 70.63722)</td>\n",
       "    </tr>\n",
       "    <tr>\n",
       "      <th>1</th>\n",
       "      <td>3748</td>\n",
       "      <td>POINT (-160.04059 70.63357)</td>\n",
       "    </tr>\n",
       "    <tr>\n",
       "      <th>2</th>\n",
       "      <td>3364</td>\n",
       "      <td>POINT (-160.04059 70.63175)</td>\n",
       "    </tr>\n",
       "    <tr>\n",
       "      <th>3</th>\n",
       "      <td>2381</td>\n",
       "      <td>POINT (-160.0351 70.63357)</td>\n",
       "    </tr>\n",
       "    <tr>\n",
       "      <th>4</th>\n",
       "      <td>3047</td>\n",
       "      <td>POINT (-160.0351 70.63175)</td>\n",
       "    </tr>\n",
       "    <tr>\n",
       "      <th>...</th>\n",
       "      <td>...</td>\n",
       "      <td>...</td>\n",
       "    </tr>\n",
       "    <tr>\n",
       "      <th>3231240</th>\n",
       "      <td>19528</td>\n",
       "      <td>POINT (169.81842 -46.29571)</td>\n",
       "    </tr>\n",
       "    <tr>\n",
       "      <th>3231241</th>\n",
       "      <td>15693</td>\n",
       "      <td>POINT (169.81293 -46.3071)</td>\n",
       "    </tr>\n",
       "    <tr>\n",
       "      <th>3231242</th>\n",
       "      <td>26747</td>\n",
       "      <td>POINT (169.66461 -46.42082)</td>\n",
       "    </tr>\n",
       "    <tr>\n",
       "      <th>3231243</th>\n",
       "      <td>67995</td>\n",
       "      <td>POINT (169.65912 -46.4511)</td>\n",
       "    </tr>\n",
       "    <tr>\n",
       "      <th>3231244</th>\n",
       "      <td>1230</td>\n",
       "      <td>POINT (168.85162 -46.56075)</td>\n",
       "    </tr>\n",
       "  </tbody>\n",
       "</table>\n",
       "<p>3231245 rows × 2 columns</p>\n",
       "</div>"
      ],
      "text/plain": [
       "         avg_d_kbps                     geometry\n",
       "0              5983  POINT (-160.01862 70.63722)\n",
       "1              3748  POINT (-160.04059 70.63357)\n",
       "2              3364  POINT (-160.04059 70.63175)\n",
       "3              2381   POINT (-160.0351 70.63357)\n",
       "4              3047   POINT (-160.0351 70.63175)\n",
       "...             ...                          ...\n",
       "3231240       19528  POINT (169.81842 -46.29571)\n",
       "3231241       15693   POINT (169.81293 -46.3071)\n",
       "3231242       26747  POINT (169.66461 -46.42082)\n",
       "3231243       67995   POINT (169.65912 -46.4511)\n",
       "3231244        1230  POINT (168.85162 -46.56075)\n",
       "\n",
       "[3231245 rows x 2 columns]"
      ]
     },
     "execution_count": 157,
     "metadata": {},
     "output_type": "execute_result"
    }
   ],
   "source": [
    "gdf"
   ]
  },
  {
   "cell_type": "code",
   "execution_count": 158,
   "id": "976053b2",
   "metadata": {},
   "outputs": [],
   "source": [
    "sidecar = Sidecar()"
   ]
  },
  {
   "cell_type": "code",
   "execution_count": 159,
   "id": "cd5bfc21",
   "metadata": {},
   "outputs": [
    {
     "data": {
      "text/plain": [
       "geopandas.geodataframe.GeoDataFrame"
      ]
     },
     "execution_count": 159,
     "metadata": {},
     "output_type": "execute_result"
    }
   ],
   "source": [
    "type(gdf)"
   ]
  },
  {
   "cell_type": "code",
   "execution_count": 160,
   "id": "19764251",
   "metadata": {},
   "outputs": [
    {
     "data": {
      "application/vnd.jupyter.widget-view+json": {
       "model_id": "c5566d9827ab4cf6a7f1c2e45ca40b2e",
       "version_major": 2,
       "version_minor": 1
      },
      "text/plain": [
       "Map(custom_attribution='', height='800px', layers=(ScatterplotLayer(get_fill_color=arro3.core.ChunkedArray<Fix…"
      ]
     },
     "execution_count": 160,
     "metadata": {},
     "output_type": "execute_result"
    }
   ],
   "source": [
    "# Create a scatterplot layer from GeoPandas\n",
    "layer = ScatterplotLayer.from_geopandas(gdf)\n",
    "\n",
    "# Configure the layer\n",
    "layer.get_fill_color = [0, 0, 200, 200]\n",
    "min_bound = 5000\n",
    "max_bound = 50000\n",
    "download_speed = gdf[\"avg_d_kbps\"]\n",
    "normalized_download_speed = (download_speed - min_bound) / (max_bound - min_bound)\n",
    "normalized_download_speed\n",
    "BrBG_10.mpl_colormap\n",
    "layer.get_fill_color = apply_continuous_cmap(normalized_download_speed, BrBG_10, alpha = 0.7)\n",
    "layer.get_radius = normalized_download_speed * 200\n",
    "layer.radius_units = \"meters\"\n",
    "layer.radius_min_pixels = 0.5\n",
    "\n",
    "# Create a Lonboard map\n",
    "m = Map(layer, height = 800)\n",
    "# with Sidecar:\n",
    "# display(m)\n",
    "m"
   ]
  }
 ],
 "metadata": {
  "kernelspec": {
   "display_name": "my-env",
   "language": "python",
   "name": "python3"
  },
  "language_info": {
   "codemirror_mode": {
    "name": "ipython",
    "version": 3
   },
   "file_extension": ".py",
   "mimetype": "text/x-python",
   "name": "python",
   "nbconvert_exporter": "python",
   "pygments_lexer": "ipython3",
   "version": "3.13.7"
  }
 },
 "nbformat": 4,
 "nbformat_minor": 5
}
