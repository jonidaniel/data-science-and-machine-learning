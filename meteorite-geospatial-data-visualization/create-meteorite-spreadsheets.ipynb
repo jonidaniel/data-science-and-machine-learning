{
 "cells": [
  {
   "cell_type": "markdown",
   "id": "1ce0d6ca",
   "metadata": {},
   "source": [
    "# Create Meteorite Spreadsheets"
   ]
  },
  {
   "cell_type": "code",
   "execution_count": 16,
   "id": "a2566a1c",
   "metadata": {},
   "outputs": [],
   "source": [
    "import os\n",
    "import pandas as pd\n",
    "import urllib.request"
   ]
  },
  {
   "cell_type": "markdown",
   "id": "eee00edb",
   "metadata": {},
   "source": [
    "### Define functions"
   ]
  },
  {
   "cell_type": "code",
   "execution_count": 17,
   "id": "070c43ce",
   "metadata": {},
   "outputs": [],
   "source": [
    "# Meteorites 1900–2013 (NASA): Power BI Dashboard\n",
    "# https://app.powerbi.com/links/LFsOgcf-i8?ctid=f0b9e9d7-8d66-4b16-9c1c-6b07c4796280&pbi_source=linkShare\n",
    "def createMeteoritesByYear():\n",
    "    # Wrangle the data\n",
    "    meteoritesByYear = meteorites[(meteorites[\"year\"] >= 1900) & (meteorites[\"fall\"] == \"Fell\")][\"year\"].value_counts()\n",
    "\n",
    "    # Save the data into a spreadsheet\n",
    "    if not os.path.isdir(\"./spreadsheets\"):\n",
    "        os.mkdir(\"./spreadsheets\")\n",
    "    meteoritesByYear.to_excel(\"./spreadsheets/meteorites-by-year.xlsx\", index = True)"
   ]
  },
  {
   "cell_type": "code",
   "execution_count": 18,
   "id": "3c733f54",
   "metadata": {},
   "outputs": [],
   "source": [
    "# Meteorite Landings (NASA): Power BI Dashboard\n",
    "# ???\n",
    "def createMeteoriteLocations():\n",
    "    # Wrangle the data\n",
    "    meteoriteLocations = meteorites.loc[0:, [\"name\", \"year\", \"reclat\", \"reclong\"]].sort_values([\"name\", \"year\", \"reclat\", \"reclong\"])\n",
    "\n",
    "    # Save the data into a spreadsheet\n",
    "    if not os.path.isdir(\"./spreadsheets\"):\n",
    "        os.mkdir(\"./spreadsheets\")\n",
    "    meteoriteLocations.to_excel(\"./spreadsheets/meteorite-locations.xlsx\", index = False)"
   ]
  },
  {
   "cell_type": "code",
   "execution_count": 19,
   "id": "fcb75f97",
   "metadata": {},
   "outputs": [],
   "source": [
    "# Meteorite Quality Probability Based on Mass: Interactive Power BI Dashboard\n",
    "# ???\n",
    "def createMeteoriteQualityProbabilityBasedOnMass():\n",
    "    # Wrangle the data\n",
    "    # ???\n",
    "\n",
    "    # Save it into an Excel file\n",
    "    if not os.path.isdir(\"./spreadsheets\"):\n",
    "        os.mkdir(\"./spreadsheets\")\n",
    "    meteorites.to_excel(\"./spreadsheets/meteorite-quality-probability-based-on-mass.xlsx\", index = False)"
   ]
  },
  {
   "cell_type": "markdown",
   "id": "6498ae6b",
   "metadata": {},
   "source": [
    "### Execute the functions"
   ]
  },
  {
   "cell_type": "code",
   "execution_count": 20,
   "id": "aa98c3eb",
   "metadata": {},
   "outputs": [],
   "source": [
    "# Download meteorite landings data and save it into a CSV file\n",
    "# urllib.request.urlretrieve(\"https://data.nasa.gov/docs/legacy/meteorite_landings/Meteorite_Landings.csv\", \"./meteorite-data-nasa.csv\")\n",
    "\n",
    "# Read meteorite data file\n",
    "meteorites = pd.read_csv(\"./assets/meteorite-data-nasa.csv\")\n",
    "\n",
    "# Create spreadsheets for Power BI dashboards\n",
    "createMeteoritesByYear()\n",
    "createMeteoriteLocations()\n",
    "createMeteoriteQualityProbabilityBasedOnMass()"
   ]
  }
 ],
 "metadata": {
  "kernelspec": {
   "display_name": "my-env",
   "language": "python",
   "name": "python3"
  },
  "language_info": {
   "codemirror_mode": {
    "name": "ipython",
    "version": 3
   },
   "file_extension": ".py",
   "mimetype": "text/x-python",
   "name": "python",
   "nbconvert_exporter": "python",
   "pygments_lexer": "ipython3",
   "version": "3.13.7"
  }
 },
 "nbformat": 4,
 "nbformat_minor": 5
}
