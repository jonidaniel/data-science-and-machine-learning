{
 "cells": [
  {
   "cell_type": "markdown",
   "id": "7ec9d9bb",
   "metadata": {},
   "source": [
    "# Leafmap meteorite locations demonstration"
   ]
  },
  {
   "cell_type": "code",
   "execution_count": 17,
   "id": "669814ac",
   "metadata": {},
   "outputs": [],
   "source": [
    "import pandas as pd\n",
    "import geopandas as gpd\n",
    "import leafmap"
   ]
  },
  {
   "cell_type": "code",
   "execution_count": 18,
   "id": "de9623ea",
   "metadata": {},
   "outputs": [],
   "source": [
    "# Download meteorite locations\n",
    "locations = pd.read_excel(\"./spreadsheets/meteorite-locations.xlsx\")"
   ]
  },
  {
   "cell_type": "code",
   "execution_count": 19,
   "id": "54e52ceb",
   "metadata": {},
   "outputs": [],
   "source": [
    "# Create a geo data frame from the locations\n",
    "gdf = gpd.GeoDataFrame(locations, geometry = gpd.points_from_xy(locations[\"reclong\"], locations[\"reclat\"]))"
   ]
  },
  {
   "cell_type": "code",
   "execution_count": 20,
   "id": "03bdc0f7",
   "metadata": {},
   "outputs": [],
   "source": [
    "# Scale the geo data frame down to only 5 data points for the sake of Folium rendering the map properly\n",
    "gdf = gdf.head()"
   ]
  },
  {
   "cell_type": "code",
   "execution_count": 21,
   "id": "32cbf554",
   "metadata": {},
   "outputs": [],
   "source": [
    "# Set the geo data frame's Coordinate Reference System\n",
    "gdf = gdf.set_crs(\"EPSG:4326\")"
   ]
  },
  {
   "cell_type": "code",
   "execution_count": 22,
   "id": "fa096666",
   "metadata": {},
   "outputs": [],
   "source": [
    "# Create the Leafmap\n",
    "m = leafmap.Map(center = [0, 0], zoom = 2)"
   ]
  },
  {
   "cell_type": "code",
   "execution_count": 23,
   "id": "c17cf22f",
   "metadata": {},
   "outputs": [],
   "source": [
    "# Add the geo data frame and a basemap to the Leafmap\n",
    "m.add_gdf(gdf, layer_name = \"Locations\")\n",
    "m.add_basemap(\"Esri.WorldImagery\")"
   ]
  },
  {
   "cell_type": "code",
   "execution_count": 24,
   "id": "87708cb4",
   "metadata": {},
   "outputs": [
    {
     "data": {
      "application/vnd.jupyter.widget-view+json": {
       "model_id": "23109cc9088540fbb0b70dd4a090eb2a",
       "version_major": 2,
       "version_minor": 0
      },
      "text/plain": [
       "Map(center=[0, 0], controls=(ZoomControl(options=['position', 'zoom_in_text', 'zoom_in_title', 'zoom_out_text'…"
      ]
     },
     "execution_count": 24,
     "metadata": {},
     "output_type": "execute_result"
    }
   ],
   "source": [
    "m"
   ]
  }
 ],
 "metadata": {
  "kernelspec": {
   "display_name": "my-env",
   "language": "python",
   "name": "python3"
  },
  "language_info": {
   "codemirror_mode": {
    "name": "ipython",
    "version": 3
   },
   "file_extension": ".py",
   "mimetype": "text/x-python",
   "name": "python",
   "nbconvert_exporter": "python",
   "pygments_lexer": "ipython3",
   "version": "3.13.7"
  }
 },
 "nbformat": 4,
 "nbformat_minor": 5
}
