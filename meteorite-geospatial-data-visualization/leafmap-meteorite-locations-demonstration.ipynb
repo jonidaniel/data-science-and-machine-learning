{
 "cells": [
  {
   "cell_type": "markdown",
   "id": "7ec9d9bb",
   "metadata": {},
   "source": [
    "# Leafmap Meteorite Locations Demonstration"
   ]
  },
  {
   "cell_type": "code",
   "execution_count": 9,
   "id": "669814ac",
   "metadata": {},
   "outputs": [],
   "source": [
    "import pandas as pd\n",
    "import geopandas as gpd\n",
    "import leafmap"
   ]
  },
  {
   "cell_type": "code",
   "execution_count": 10,
   "id": "de9623ea",
   "metadata": {},
   "outputs": [],
   "source": [
    "# Download meteorite locations\n",
    "# Note: run ./create-meteorite-spreadsheets.xlsx first to create ./spreadsheets/meteorite-locations.xlsx\n",
    "locations = pd.read_excel(\"./spreadsheets/meteorite-locations.xlsx\")"
   ]
  },
  {
   "cell_type": "code",
   "execution_count": 11,
   "id": "54e52ceb",
   "metadata": {},
   "outputs": [],
   "source": [
    "# Create a geo data frame from the locations\n",
    "gdf = gpd.GeoDataFrame(locations, geometry = gpd.points_from_xy(locations[\"reclong\"], locations[\"reclat\"]))"
   ]
  },
  {
   "cell_type": "code",
   "execution_count": 12,
   "id": "32cbf554",
   "metadata": {},
   "outputs": [],
   "source": [
    "# Set it's Coordinate Reference System\n",
    "gdf = gdf.set_crs(\"EPSG:4326\")"
   ]
  },
  {
   "cell_type": "code",
   "execution_count": 13,
   "id": "03bdc0f7",
   "metadata": {},
   "outputs": [],
   "source": [
    "# Scale the geo data frame down to only 5 data points for the sake of Folium rendering the map properly\n",
    "gdf = gdf.head()"
   ]
  },
  {
   "cell_type": "code",
   "execution_count": 14,
   "id": "fa096666",
   "metadata": {},
   "outputs": [],
   "source": [
    "# Create the Leafmap\n",
    "m = leafmap.Map(center = [0, 0], zoom = 2)"
   ]
  },
  {
   "cell_type": "code",
   "execution_count": 15,
   "id": "c17cf22f",
   "metadata": {},
   "outputs": [],
   "source": [
    "# Add the geo data frame and a basemap to the Leafmap\n",
    "m.add_gdf(gdf, layer_name = \"Locations\")\n",
    "m.add_basemap(\"Esri.WorldImagery\")"
   ]
  },
  {
   "cell_type": "code",
   "execution_count": 16,
   "id": "87708cb4",
   "metadata": {},
   "outputs": [
    {
     "data": {
      "application/vnd.jupyter.widget-view+json": {
       "model_id": "53714344eb154fb894ec38dc0451e642",
       "version_major": 2,
       "version_minor": 0
      },
      "text/plain": [
       "Map(center=[0, 0], controls=(ZoomControl(options=['position', 'zoom_in_text', 'zoom_in_title', 'zoom_out_text'…"
      ]
     },
     "execution_count": 16,
     "metadata": {},
     "output_type": "execute_result"
    }
   ],
   "source": [
    "m"
   ]
  }
 ],
 "metadata": {
  "kernelspec": {
   "display_name": "my-env",
   "language": "python",
   "name": "python3"
  },
  "language_info": {
   "codemirror_mode": {
    "name": "ipython",
    "version": 3
   },
   "file_extension": ".py",
   "mimetype": "text/x-python",
   "name": "python",
   "nbconvert_exporter": "python",
   "pygments_lexer": "ipython3",
   "version": "3.13.7"
  }
 },
 "nbformat": 4,
 "nbformat_minor": 5
}
