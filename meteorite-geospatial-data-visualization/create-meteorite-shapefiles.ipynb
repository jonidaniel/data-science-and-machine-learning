{
 "cells": [
  {
   "cell_type": "markdown",
   "id": "a4eb7a60",
   "metadata": {},
   "source": [
    "# Create Meteorite Shapefiles"
   ]
  },
  {
   "cell_type": "code",
   "execution_count": 228,
   "id": "9eb944bb",
   "metadata": {},
   "outputs": [],
   "source": [
    "import os\n",
    "import pandas as pd\n",
    "import geopandas as gpd\n",
    "import shapely\n",
    "\n",
    "from zipfile import ZipFile"
   ]
  },
  {
   "cell_type": "markdown",
   "id": "8b6a6834",
   "metadata": {},
   "source": [
    "### Create a data frame"
   ]
  },
  {
   "cell_type": "code",
   "execution_count": 229,
   "id": "640fa510",
   "metadata": {},
   "outputs": [],
   "source": [
    "# Create a data frame from a CSV file\n",
    "df = pd.read_csv(\"./assets/meteorite-data-nasa.csv\")"
   ]
  },
  {
   "cell_type": "markdown",
   "id": "beb90608",
   "metadata": {},
   "source": [
    "### Wrangle the data"
   ]
  },
  {
   "cell_type": "code",
   "execution_count": 230,
   "id": "f6abeec7",
   "metadata": {},
   "outputs": [],
   "source": [
    "# Get rid of unnecessary columns\n",
    "keep_cols = [\n",
    "    \"name\",\n",
    "    \"mass (g)\",\n",
    "    \"fall\",\n",
    "    \"year\",\n",
    "    \"reclat\",\n",
    "    \"reclong\"\n",
    "]\n",
    "df = df[keep_cols]"
   ]
  },
  {
   "cell_type": "code",
   "execution_count": 231,
   "id": "630a51ba",
   "metadata": {},
   "outputs": [
    {
     "data": {
      "text/plain": [
       "np.float64(0.16000962463907603)"
      ]
     },
     "execution_count": 231,
     "metadata": {},
     "output_type": "execute_result"
    }
   ],
   "source": [
    "# Show percentage of rows that have null reclong or reclat values\n",
    "(df[\"reclong\"].isna() | df[\"reclat\"].isna()).mean()"
   ]
  },
  {
   "cell_type": "code",
   "execution_count": 232,
   "id": "a026705d",
   "metadata": {},
   "outputs": [],
   "source": [
    "# Keep only those rows where reclong nor reclat is null\n",
    "df = df[(df[\"reclong\"].notna() & df[\"reclat\"].notna())]"
   ]
  },
  {
   "cell_type": "code",
   "execution_count": 233,
   "id": "3dea1d19",
   "metadata": {},
   "outputs": [
    {
     "data": {
      "text/plain": [
       "np.float64(0.0)"
      ]
     },
     "execution_count": 233,
     "metadata": {},
     "output_type": "execute_result"
    }
   ],
   "source": [
    "# Now the null percentage is 0\n",
    "(df[\"reclong\"].isna() | df[\"reclat\"].isna()).mean()"
   ]
  },
  {
   "cell_type": "markdown",
   "id": "cece0bcb",
   "metadata": {},
   "source": [
    "### Create a geo data frame"
   ]
  },
  {
   "cell_type": "code",
   "execution_count": 234,
   "id": "798ac398",
   "metadata": {},
   "outputs": [],
   "source": [
    "# Construct a geo data frame\n",
    "geometry = shapely.points(df.pop(\"reclong\"), df.pop(\"reclat\"))\n",
    "gdf = gpd.GeoDataFrame(df, geometry = geometry)"
   ]
  },
  {
   "cell_type": "code",
   "execution_count": 235,
   "id": "f2f568ba",
   "metadata": {},
   "outputs": [
    {
     "data": {
      "text/html": [
       "<div>\n",
       "<style scoped>\n",
       "    .dataframe tbody tr th:only-of-type {\n",
       "        vertical-align: middle;\n",
       "    }\n",
       "\n",
       "    .dataframe tbody tr th {\n",
       "        vertical-align: top;\n",
       "    }\n",
       "\n",
       "    .dataframe thead th {\n",
       "        text-align: right;\n",
       "    }\n",
       "</style>\n",
       "<table border=\"1\" class=\"dataframe\">\n",
       "  <thead>\n",
       "    <tr style=\"text-align: right;\">\n",
       "      <th></th>\n",
       "      <th>name</th>\n",
       "      <th>mass (g)</th>\n",
       "      <th>fall</th>\n",
       "      <th>year</th>\n",
       "      <th>geometry</th>\n",
       "    </tr>\n",
       "  </thead>\n",
       "  <tbody>\n",
       "    <tr>\n",
       "      <th>0</th>\n",
       "      <td>Aachen</td>\n",
       "      <td>21.0</td>\n",
       "      <td>Fell</td>\n",
       "      <td>1880.0</td>\n",
       "      <td>POINT (6.08333 50.775)</td>\n",
       "    </tr>\n",
       "    <tr>\n",
       "      <th>1</th>\n",
       "      <td>Aarhus</td>\n",
       "      <td>720.0</td>\n",
       "      <td>Fell</td>\n",
       "      <td>1951.0</td>\n",
       "      <td>POINT (10.23333 56.18333)</td>\n",
       "    </tr>\n",
       "    <tr>\n",
       "      <th>2</th>\n",
       "      <td>Abee</td>\n",
       "      <td>107000.0</td>\n",
       "      <td>Fell</td>\n",
       "      <td>1952.0</td>\n",
       "      <td>POINT (-113 54.21667)</td>\n",
       "    </tr>\n",
       "    <tr>\n",
       "      <th>3</th>\n",
       "      <td>Acapulco</td>\n",
       "      <td>1914.0</td>\n",
       "      <td>Fell</td>\n",
       "      <td>1976.0</td>\n",
       "      <td>POINT (-99.9 16.88333)</td>\n",
       "    </tr>\n",
       "    <tr>\n",
       "      <th>4</th>\n",
       "      <td>Achiras</td>\n",
       "      <td>780.0</td>\n",
       "      <td>Fell</td>\n",
       "      <td>1902.0</td>\n",
       "      <td>POINT (-64.95 -33.16667)</td>\n",
       "    </tr>\n",
       "    <tr>\n",
       "      <th>...</th>\n",
       "      <td>...</td>\n",
       "      <td>...</td>\n",
       "      <td>...</td>\n",
       "      <td>...</td>\n",
       "      <td>...</td>\n",
       "    </tr>\n",
       "    <tr>\n",
       "      <th>45711</th>\n",
       "      <td>Zillah 002</td>\n",
       "      <td>172.0</td>\n",
       "      <td>Found</td>\n",
       "      <td>1990.0</td>\n",
       "      <td>POINT (17.0185 29.037)</td>\n",
       "    </tr>\n",
       "    <tr>\n",
       "      <th>45712</th>\n",
       "      <td>Zinder</td>\n",
       "      <td>46.0</td>\n",
       "      <td>Found</td>\n",
       "      <td>1999.0</td>\n",
       "      <td>POINT (8.96667 13.78333)</td>\n",
       "    </tr>\n",
       "    <tr>\n",
       "      <th>45713</th>\n",
       "      <td>Zlin</td>\n",
       "      <td>3.3</td>\n",
       "      <td>Found</td>\n",
       "      <td>1939.0</td>\n",
       "      <td>POINT (17.66667 49.25)</td>\n",
       "    </tr>\n",
       "    <tr>\n",
       "      <th>45714</th>\n",
       "      <td>Zubkovsky</td>\n",
       "      <td>2167.0</td>\n",
       "      <td>Found</td>\n",
       "      <td>2003.0</td>\n",
       "      <td>POINT (41.5046 49.78917)</td>\n",
       "    </tr>\n",
       "    <tr>\n",
       "      <th>45715</th>\n",
       "      <td>Zulu Queen</td>\n",
       "      <td>200.0</td>\n",
       "      <td>Found</td>\n",
       "      <td>1976.0</td>\n",
       "      <td>POINT (-115.68333 33.98333)</td>\n",
       "    </tr>\n",
       "  </tbody>\n",
       "</table>\n",
       "<p>38401 rows × 5 columns</p>\n",
       "</div>"
      ],
      "text/plain": [
       "             name  mass (g)   fall    year                     geometry\n",
       "0          Aachen      21.0   Fell  1880.0       POINT (6.08333 50.775)\n",
       "1          Aarhus     720.0   Fell  1951.0    POINT (10.23333 56.18333)\n",
       "2            Abee  107000.0   Fell  1952.0        POINT (-113 54.21667)\n",
       "3        Acapulco    1914.0   Fell  1976.0       POINT (-99.9 16.88333)\n",
       "4         Achiras     780.0   Fell  1902.0     POINT (-64.95 -33.16667)\n",
       "...           ...       ...    ...     ...                          ...\n",
       "45711  Zillah 002     172.0  Found  1990.0       POINT (17.0185 29.037)\n",
       "45712      Zinder      46.0  Found  1999.0     POINT (8.96667 13.78333)\n",
       "45713        Zlin       3.3  Found  1939.0       POINT (17.66667 49.25)\n",
       "45714   Zubkovsky    2167.0  Found  2003.0     POINT (41.5046 49.78917)\n",
       "45715  Zulu Queen     200.0  Found  1976.0  POINT (-115.68333 33.98333)\n",
       "\n",
       "[38401 rows x 5 columns]"
      ]
     },
     "execution_count": 235,
     "metadata": {},
     "output_type": "execute_result"
    }
   ],
   "source": [
    "# Set its Coordinate Reference System\n",
    "gdf.set_crs(\"EPSG:4326\")"
   ]
  },
  {
   "cell_type": "code",
   "execution_count": 236,
   "id": "ed78ab76",
   "metadata": {},
   "outputs": [],
   "source": [
    "# Narrow meteorites down to only those that where witnessed\n",
    "gdf = gdf[gdf[\"fall\"] == \"Fell\"]"
   ]
  },
  {
   "cell_type": "markdown",
   "id": "e2b85020",
   "metadata": {},
   "source": [
    "### Create a Shapefile"
   ]
  },
  {
   "cell_type": "code",
   "execution_count": 237,
   "id": "4538bf4d",
   "metadata": {},
   "outputs": [
    {
     "name": "stderr",
     "output_type": "stream",
     "text": [
      "/Users/fosse/Desktop/python/meteorite-geospatial-data-visualization/my-env/lib/python3.13/site-packages/pyogrio/geopandas.py:710: UserWarning: 'crs' was not provided.  The output dataset will not have projection information defined and may not be usable in other systems.\n",
      "  write(\n"
     ]
    }
   ],
   "source": [
    "# Create a Shapefile from the geo data frame\n",
    "if not os.path.isdir(\"./shapefiles\"):\n",
    "    os.mkdir(\"./shapefiles\")\n",
    "gdf.to_file(\"./shapefiles/meteorites.shp\")"
   ]
  },
  {
   "cell_type": "code",
   "execution_count": 238,
   "id": "f2a1a44a",
   "metadata": {},
   "outputs": [],
   "source": [
    "# Compress the Shapefile parts into a ZIP file, simultaneously removing them\n",
    "with ZipFile(\"./shapefiles/meteorites.zip\", \"w\") as zipf:\n",
    "    for file in os.listdir(os.fsencode(\"./shapefiles/\")):\n",
    "      filename = os.fsdecode(file)\n",
    "      if not filename.endswith(\".zip\"):\n",
    "        zipf.write(\"./shapefiles/\" + filename)\n",
    "        os.remove(\"./shapefiles/\" + filename)"
   ]
  }
 ],
 "metadata": {
  "kernelspec": {
   "display_name": "my-env",
   "language": "python",
   "name": "python3"
  },
  "language_info": {
   "codemirror_mode": {
    "name": "ipython",
    "version": 3
   },
   "file_extension": ".py",
   "mimetype": "text/x-python",
   "name": "python",
   "nbconvert_exporter": "python",
   "pygments_lexer": "ipython3",
   "version": "3.13.7"
  }
 },
 "nbformat": 4,
 "nbformat_minor": 5
}
