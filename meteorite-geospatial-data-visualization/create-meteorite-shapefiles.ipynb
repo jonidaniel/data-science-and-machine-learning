{
 "cells": [
  {
   "cell_type": "markdown",
   "id": "a4eb7a60",
   "metadata": {},
   "source": [
    "# Create Meteorite Shapefiles"
   ]
  },
  {
   "cell_type": "code",
   "execution_count": 169,
   "id": "9eb944bb",
   "metadata": {},
   "outputs": [],
   "source": [
    "import os\n",
    "import pandas as pd\n",
    "import geopandas as gpd\n",
    "import shapely\n",
    "\n",
    "from zipfile import ZipFile"
   ]
  },
  {
   "cell_type": "markdown",
   "id": "8b6a6834",
   "metadata": {},
   "source": [
    "### Create a data frame"
   ]
  },
  {
   "cell_type": "code",
   "execution_count": 170,
   "id": "640fa510",
   "metadata": {},
   "outputs": [],
   "source": [
    "# Create a data frame from a CSV file\n",
    "df = pd.read_csv(\"./assets/meteorite-data-nasa.csv\")"
   ]
  },
  {
   "cell_type": "markdown",
   "id": "beb90608",
   "metadata": {},
   "source": [
    "### Wrangle the data"
   ]
  },
  {
   "cell_type": "code",
   "execution_count": 171,
   "id": "f6abeec7",
   "metadata": {},
   "outputs": [],
   "source": [
    "# Get rid of unnecessary columns\n",
    "keep_cols = [\n",
    "    \"name\",\n",
    "    \"mass (g)\",\n",
    "    \"fall\",\n",
    "    \"year\",\n",
    "    \"reclat\",\n",
    "    \"reclong\"\n",
    "]\n",
    "df = df[keep_cols]"
   ]
  },
  {
   "cell_type": "code",
   "execution_count": 172,
   "id": "630a51ba",
   "metadata": {},
   "outputs": [
    {
     "data": {
      "text/plain": [
       "np.float64(0.16000962463907603)"
      ]
     },
     "execution_count": 172,
     "metadata": {},
     "output_type": "execute_result"
    }
   ],
   "source": [
    "# Show percentage of rows that have null reclong or reclat values\n",
    "(df[\"reclong\"].isna() | df[\"reclat\"].isna()).mean()"
   ]
  },
  {
   "cell_type": "code",
   "execution_count": 173,
   "id": "a026705d",
   "metadata": {},
   "outputs": [],
   "source": [
    "# Keep only those rows where reclong nor reclat is null\n",
    "df = df[(df[\"reclong\"].notna() & df[\"reclat\"].notna())]"
   ]
  },
  {
   "cell_type": "code",
   "execution_count": 174,
   "id": "3dea1d19",
   "metadata": {},
   "outputs": [
    {
     "data": {
      "text/plain": [
       "np.float64(0.0)"
      ]
     },
     "execution_count": 174,
     "metadata": {},
     "output_type": "execute_result"
    }
   ],
   "source": [
    "# Now the null percentage is 0\n",
    "(df[\"reclong\"].isna() | df[\"reclat\"].isna()).mean()"
   ]
  },
  {
   "cell_type": "markdown",
   "id": "cece0bcb",
   "metadata": {},
   "source": [
    "### Create a geo data frame"
   ]
  },
  {
   "cell_type": "code",
   "execution_count": 175,
   "id": "798ac398",
   "metadata": {},
   "outputs": [],
   "source": [
    "# Construct a geo data frame\n",
    "geometry = shapely.points(df.pop(\"reclong\"), df.pop(\"reclat\"))\n",
    "gdf = gpd.GeoDataFrame(df, geometry = geometry)"
   ]
  },
  {
   "cell_type": "code",
   "execution_count": null,
   "id": "f2f568ba",
   "metadata": {},
   "outputs": [],
   "source": [
    "# Set its Coordinate Reference System\n",
    "gdf = gdf.geometry.set_crs(\"EPSG:4326\")"
   ]
  },
  {
   "cell_type": "code",
   "execution_count": 180,
   "id": "6865314f",
   "metadata": {},
   "outputs": [
    {
     "data": {
      "text/plain": [
       "<Geographic 2D CRS: EPSG:4326>\n",
       "Name: WGS 84\n",
       "Axis Info [ellipsoidal]:\n",
       "- Lat[north]: Geodetic latitude (degree)\n",
       "- Lon[east]: Geodetic longitude (degree)\n",
       "Area of Use:\n",
       "- name: World.\n",
       "- bounds: (-180.0, -90.0, 180.0, 90.0)\n",
       "Datum: World Geodetic System 1984 ensemble\n",
       "- Ellipsoid: WGS 84\n",
       "- Prime Meridian: Greenwich"
      ]
     },
     "execution_count": 180,
     "metadata": {},
     "output_type": "execute_result"
    }
   ],
   "source": [
    "gdf.crs"
   ]
  },
  {
   "cell_type": "code",
   "execution_count": 177,
   "id": "ed78ab76",
   "metadata": {},
   "outputs": [],
   "source": [
    "# Narrow meteorites down to only those that where witnessed\n",
    "gdf = gdf[gdf[\"fall\"] == \"Fell\"]"
   ]
  },
  {
   "cell_type": "markdown",
   "id": "e2b85020",
   "metadata": {},
   "source": [
    "### Create a Shapefile"
   ]
  },
  {
   "cell_type": "code",
   "execution_count": 178,
   "id": "4538bf4d",
   "metadata": {},
   "outputs": [],
   "source": [
    "# Create a Shapefile from the geo data frame\n",
    "if not os.path.isdir(\"./shapefiles\"):\n",
    "    os.mkdir(\"./shapefiles\")\n",
    "gdf.to_file(\"./shapefiles/meteorites.shp\")"
   ]
  },
  {
   "cell_type": "code",
   "execution_count": 179,
   "id": "f2a1a44a",
   "metadata": {},
   "outputs": [],
   "source": [
    "# Compress the Shapefile parts into a ZIP file, simultaneously removing them\n",
    "with ZipFile(\"./shapefiles/meteorites.zip\", \"w\") as zipf:\n",
    "    for file in os.listdir(os.fsencode(\"./shapefiles/\")):\n",
    "      filename = os.fsdecode(file)\n",
    "      if not filename.endswith(\".zip\"):\n",
    "        zipf.write(\"./shapefiles/\" + filename)\n",
    "        os.remove(\"./shapefiles/\" + filename)"
   ]
  }
 ],
 "metadata": {
  "kernelspec": {
   "display_name": "my-env",
   "language": "python",
   "name": "python3"
  },
  "language_info": {
   "codemirror_mode": {
    "name": "ipython",
    "version": 3
   },
   "file_extension": ".py",
   "mimetype": "text/x-python",
   "name": "python",
   "nbconvert_exporter": "python",
   "pygments_lexer": "ipython3",
   "version": "3.13.7"
  }
 },
 "nbformat": 4,
 "nbformat_minor": 5
}
