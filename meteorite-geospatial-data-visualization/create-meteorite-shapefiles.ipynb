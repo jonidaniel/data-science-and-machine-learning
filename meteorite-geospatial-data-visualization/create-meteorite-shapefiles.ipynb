{
 "cells": [
  {
   "cell_type": "markdown",
   "id": "a4eb7a60",
   "metadata": {},
   "source": [
    "# Create Meteorite Shapefiles"
   ]
  },
  {
   "cell_type": "code",
   "execution_count": 58,
   "id": "9eb944bb",
   "metadata": {},
   "outputs": [],
   "source": [
    "import os\n",
    "import geopandas as gpd\n",
    "import matplotlib as mpl\n",
    "import numpy as np\n",
    "import pandas as pd\n",
    "import shapely\n",
    "\n",
    "from lonboard import Map, ScatterplotLayer"
   ]
  },
  {
   "cell_type": "markdown",
   "id": "8b6a6834",
   "metadata": {},
   "source": [
    "### Create a data frame"
   ]
  },
  {
   "cell_type": "code",
   "execution_count": 59,
   "id": "640fa510",
   "metadata": {},
   "outputs": [],
   "source": [
    "# Create a data frame from a CSV file\n",
    "df = pd.read_csv(\"./assets/meteorite-data-nasa.csv\")"
   ]
  },
  {
   "cell_type": "markdown",
   "id": "beb90608",
   "metadata": {},
   "source": [
    "### Wrangle the data"
   ]
  },
  {
   "cell_type": "code",
   "execution_count": 60,
   "id": "f6abeec7",
   "metadata": {},
   "outputs": [],
   "source": [
    "# Get rid of unnecessary columns\n",
    "keep_cols = [\n",
    "    \"name\",\n",
    "    \"mass (g)\",\n",
    "    \"fall\",\n",
    "    \"year\",\n",
    "    \"reclat\",\n",
    "    \"reclong\"\n",
    "]\n",
    "df = df[keep_cols]"
   ]
  },
  {
   "cell_type": "code",
   "execution_count": 61,
   "id": "630a51ba",
   "metadata": {},
   "outputs": [
    {
     "data": {
      "text/plain": [
       "np.float64(0.16000962463907603)"
      ]
     },
     "execution_count": 61,
     "metadata": {},
     "output_type": "execute_result"
    }
   ],
   "source": [
    "# Show percentage of rows that have null reclong or reclat values\n",
    "(df[\"reclong\"].isna() | df[\"reclat\"].isna()).mean()"
   ]
  },
  {
   "cell_type": "code",
   "execution_count": 62,
   "id": "a026705d",
   "metadata": {},
   "outputs": [],
   "source": [
    "# Keep only those rows where reclong nor reclat is null\n",
    "df = df[(df[\"reclong\"].notna() & df[\"reclat\"].notna())]"
   ]
  },
  {
   "cell_type": "code",
   "execution_count": 63,
   "id": "3dea1d19",
   "metadata": {},
   "outputs": [
    {
     "data": {
      "text/plain": [
       "np.float64(0.0)"
      ]
     },
     "execution_count": 63,
     "metadata": {},
     "output_type": "execute_result"
    }
   ],
   "source": [
    "# Now the null percentage is 0\n",
    "(df[\"reclong\"].isna() | df[\"reclat\"].isna()).mean()"
   ]
  },
  {
   "cell_type": "markdown",
   "id": "cece0bcb",
   "metadata": {},
   "source": [
    "### Create a geo data frame"
   ]
  },
  {
   "cell_type": "code",
   "execution_count": 64,
   "id": "798ac398",
   "metadata": {},
   "outputs": [],
   "source": [
    "# Construct a geo data frame\n",
    "geometry = shapely.points(df.pop(\"reclong\"), df.pop(\"reclat\"))\n",
    "gdf = gpd.GeoDataFrame(df, geometry = geometry)"
   ]
  },
  {
   "cell_type": "code",
   "execution_count": 65,
   "id": "ed78ab76",
   "metadata": {},
   "outputs": [],
   "source": [
    "# Narrow meteorites down to only those that where witnessed\n",
    "gdf = gdf[gdf[\"fall\"] == \"Fell\"]"
   ]
  },
  {
   "cell_type": "markdown",
   "id": "e2b85020",
   "metadata": {},
   "source": [
    "### Create a Shapefile"
   ]
  },
  {
   "cell_type": "code",
   "execution_count": 66,
   "id": "4538bf4d",
   "metadata": {},
   "outputs": [
    {
     "name": "stderr",
     "output_type": "stream",
     "text": [
      "/Users/fosse/Desktop/python/meteorite-geospatial-data-visualization/my-env/lib/python3.13/site-packages/pyogrio/geopandas.py:710: UserWarning: 'crs' was not provided.  The output dataset will not have projection information defined and may not be usable in other systems.\n",
      "  write(\n"
     ]
    }
   ],
   "source": [
    "# Create a Shapefile from the geo data frame\n",
    "if not os.path.isdir(\"./shapefiles\"):\n",
    "    os.mkdir(\"./shapefiles\")\n",
    "gdf.to_file(\"./shapefiles/meteorites.shp\")"
   ]
  }
 ],
 "metadata": {
  "kernelspec": {
   "display_name": "my-env",
   "language": "python",
   "name": "python3"
  },
  "language_info": {
   "codemirror_mode": {
    "name": "ipython",
    "version": 3
   },
   "file_extension": ".py",
   "mimetype": "text/x-python",
   "name": "python",
   "nbconvert_exporter": "python",
   "pygments_lexer": "ipython3",
   "version": "3.13.7"
  }
 },
 "nbformat": 4,
 "nbformat_minor": 5
}
